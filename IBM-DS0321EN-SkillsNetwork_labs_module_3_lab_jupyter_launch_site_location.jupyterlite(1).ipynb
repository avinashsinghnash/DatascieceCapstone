{
  "metadata": {
    "language_info": {
      "codemirror_mode": {
        "name": "python",
        "version": 3
      },
      "file_extension": ".py",
      "mimetype": "text/x-python",
      "name": "python",
      "nbconvert_exporter": "python",
      "pygments_lexer": "ipython3",
      "version": "3.8"
    },
    "kernelspec": {
      "name": "python",
      "display_name": "Python (Pyodide)",
      "language": "python"
    }
  },
  "nbformat_minor": 4,
  "nbformat": 4,
  "cells": [
    {
      "cell_type": "markdown",
      "source": "<p style=\"text-align:center\">\n    <a href=\"https://skills.network/?utm_medium=Exinfluencer&utm_source=Exinfluencer&utm_content=000026UJ&utm_term=10006555&utm_id=NA-SkillsNetwork-Channel-SkillsNetworkCoursesIBMDS0321ENSkillsNetwork26802033-2022-01-01\" target=\"_blank\">\n    <img src=\"https://cf-courses-data.s3.us.cloud-object-storage.appdomain.cloud/assets/logos/SN_web_lightmode.png\" width=\"200\" alt=\"Skills Network Logo\"  />\n    </a>\n</p>\n",
      "metadata": {}
    },
    {
      "cell_type": "markdown",
      "source": "# **Launch Sites Locations Analysis with Folium**\n",
      "metadata": {}
    },
    {
      "cell_type": "markdown",
      "source": "Estimated time needed: **40** minutes\n",
      "metadata": {}
    },
    {
      "cell_type": "markdown",
      "source": "The launch success rate may depend on many factors such as payload mass, orbit type, and so on. It may also depend on the location and proximities of a launch site, i.e., the initial position of rocket trajectories. Finding an optimal location for building a launch site certainly involves many factors and hopefully we could discover some of the factors by analyzing the existing launch site locations.\n",
      "metadata": {}
    },
    {
      "cell_type": "markdown",
      "source": "In the previous exploratory data analysis labs, you have visualized the SpaceX launch dataset using `matplotlib` and `seaborn` and discovered some preliminary correlations between the launch site and success rates. In this lab, you will be performing more interactive visual analytics using `Folium`.\n",
      "metadata": {}
    },
    {
      "cell_type": "markdown",
      "source": "## Objectives\n",
      "metadata": {}
    },
    {
      "cell_type": "markdown",
      "source": "This lab contains the following tasks:\n\n*   **TASK 1:** Mark all launch sites on a map\n*   **TASK 2:** Mark the success/failed launches for each site on the map\n*   **TASK 3:** Calculate the distances between a launch site to its proximities\n\nAfter completed the above tasks, you should be able to find some geographical patterns about launch sites.\n",
      "metadata": {}
    },
    {
      "cell_type": "markdown",
      "source": "Let's first import required Python packages for this lab:\n",
      "metadata": {}
    },
    {
      "cell_type": "code",
      "source": "import piplite\nawait piplite.install(['folium'])\nawait piplite.install(['pandas'])",
      "metadata": {
        "trusted": true
      },
      "execution_count": 2,
      "outputs": []
    },
    {
      "cell_type": "code",
      "source": "import folium\nimport pandas as pd",
      "metadata": {
        "trusted": true
      },
      "execution_count": 3,
      "outputs": []
    },
    {
      "cell_type": "code",
      "source": "# Import folium MarkerCluster plugin\nfrom folium.plugins import MarkerCluster\n# Import folium MousePosition plugin\nfrom folium.plugins import MousePosition\n# Import folium DivIcon plugin\nfrom folium.features import DivIcon",
      "metadata": {
        "trusted": true
      },
      "execution_count": 4,
      "outputs": []
    },
    {
      "cell_type": "markdown",
      "source": "If you need to refresh your memory about folium, you may download and refer to this previous folium lab:\n",
      "metadata": {}
    },
    {
      "cell_type": "markdown",
      "source": "[Generating Maps with Python](https://cf-courses-data.s3.us.cloud-object-storage.appdomain.cloud/IBM-DS0321EN-SkillsNetwork/labs/module\\_3/DV0101EN-3-5-1-Generating-Maps-in-Python-py-v2.0.ipynb)\n",
      "metadata": {}
    },
    {
      "cell_type": "code",
      "source": "## Task 1: Mark all launch sites on a map\n",
      "metadata": {
        "trusted": true
      },
      "execution_count": 5,
      "outputs": []
    },
    {
      "cell_type": "markdown",
      "source": "First, let's try to add each site's location on a map using site's latitude and longitude coordinates\n",
      "metadata": {}
    },
    {
      "cell_type": "markdown",
      "source": "The following dataset with the name `spacex_launch_geo.csv` is an augmented dataset with latitude and longitude added for each site.\n",
      "metadata": {}
    },
    {
      "cell_type": "code",
      "source": "# Download and read the `spacex_launch_geo.csv`\nfrom js import fetch\nimport io\n\nURL = 'https://cf-courses-data.s3.us.cloud-object-storage.appdomain.cloud/IBM-DS0321EN-SkillsNetwork/datasets/spacex_launch_geo.csv'\nresp = await fetch(URL)\nspacex_csv_file = io.BytesIO((await resp.arrayBuffer()).to_py())\nspacex_df=pd.read_csv(spacex_csv_file)",
      "metadata": {
        "trusted": true
      },
      "execution_count": 6,
      "outputs": []
    },
    {
      "cell_type": "markdown",
      "source": "Now, you can take a look at what are the coordinates for each site.\n",
      "metadata": {}
    },
    {
      "cell_type": "code",
      "source": "# Select relevant sub-columns: `Launch Site`, `Lat(Latitude)`, `Long(Longitude)`, `class`\nspacex_df = spacex_df[['Launch Site', 'Lat', 'Long', 'class']]\nlaunch_sites_df = spacex_df.groupby(['Launch Site'], as_index=False).first()\nlaunch_sites_df = launch_sites_df[['Launch Site', 'Lat', 'Long']]\nlaunch_sites_df",
      "metadata": {
        "trusted": true
      },
      "execution_count": 7,
      "outputs": [
        {
          "execution_count": 7,
          "output_type": "execute_result",
          "data": {
            "text/plain": "    Launch Site        Lat        Long\n0   CCAFS LC-40  28.562302  -80.577356\n1  CCAFS SLC-40  28.563197  -80.576820\n2    KSC LC-39A  28.573255  -80.646895\n3   VAFB SLC-4E  34.632834 -120.610745",
            "text/html": "<div>\n<style scoped>\n    .dataframe tbody tr th:only-of-type {\n        vertical-align: middle;\n    }\n\n    .dataframe tbody tr th {\n        vertical-align: top;\n    }\n\n    .dataframe thead th {\n        text-align: right;\n    }\n</style>\n<table border=\"1\" class=\"dataframe\">\n  <thead>\n    <tr style=\"text-align: right;\">\n      <th></th>\n      <th>Launch Site</th>\n      <th>Lat</th>\n      <th>Long</th>\n    </tr>\n  </thead>\n  <tbody>\n    <tr>\n      <th>0</th>\n      <td>CCAFS LC-40</td>\n      <td>28.562302</td>\n      <td>-80.577356</td>\n    </tr>\n    <tr>\n      <th>1</th>\n      <td>CCAFS SLC-40</td>\n      <td>28.563197</td>\n      <td>-80.576820</td>\n    </tr>\n    <tr>\n      <th>2</th>\n      <td>KSC LC-39A</td>\n      <td>28.573255</td>\n      <td>-80.646895</td>\n    </tr>\n    <tr>\n      <th>3</th>\n      <td>VAFB SLC-4E</td>\n      <td>34.632834</td>\n      <td>-120.610745</td>\n    </tr>\n  </tbody>\n</table>\n</div>"
          },
          "metadata": {}
        }
      ]
    },
    {
      "cell_type": "markdown",
      "source": "Above coordinates are just plain numbers that can not give you any intuitive insights about where are those launch sites. If you are very good at geography, you can interpret those numbers directly in your mind. If not, that's fine too. Let's visualize those locations by pinning them on a map.\n",
      "metadata": {}
    },
    {
      "cell_type": "markdown",
      "source": "We first need to create a folium `Map` object, with an initial center location to be NASA Johnson Space Center at Houston, Texas.\n",
      "metadata": {}
    },
    {
      "cell_type": "code",
      "source": "# Start location is NASA Johnson Space Center\nnasa_coordinate = [29.559684888503615, -95.0830971930759]\nsite_map = folium.Map(location=nasa_coordinate, zoom_start=10)",
      "metadata": {
        "trusted": true
      },
      "execution_count": 8,
      "outputs": []
    },
    {
      "cell_type": "markdown",
      "source": "We could use `folium.Circle` to add a highlighted circle area with a text label on a specific coordinate. For example,\n",
      "metadata": {}
    },
    {
      "cell_type": "code",
      "source": "# Create a blue circle at NASA Johnson Space Center's coordinate with a popup label showing its name\ncircle = folium.Circle(nasa_coordinate, radius=1000, color='#d35400', fill=True).add_child(folium.Popup('NASA Johnson Space Center'))\n# Create a blue circle at NASA Johnson Space Center's coordinate with a icon showing its name\nmarker = folium.map.Marker(\n    nasa_coordinate,\n    # Create an icon as a text label\n    icon=DivIcon(\n        icon_size=(20,20),\n        icon_anchor=(0,0),\n        html='<div style=\"font-size: 12; color:#d35400;\"><b>%s</b></div>' % 'NASA JSC',\n        )\n    )\nsite_map.add_child(circle)\nsite_map.add_child(marker)",
      "metadata": {
        "trusted": true
      },
      "execution_count": 9,
      "outputs": [
        {
          "execution_count": 9,
          "output_type": "execute_result",
          "data": {
            "text/plain": "<folium.folium.Map at 0x152b288>",
            "text/html": "<div style=\"width:100%;\"><div style=\"position:relative;width:100%;height:0;padding-bottom:60%;\"><span style=\"color:#565656\">Make this Notebook Trusted to load map: File -> Trust Notebook</span><iframe srcdoc=\"&lt;!DOCTYPE html&gt;\n&lt;html&gt;\n&lt;head&gt;\n    \n    &lt;meta http-equiv=&quot;content-type&quot; content=&quot;text/html; charset=UTF-8&quot; /&gt;\n    \n        &lt;script&gt;\n            L_NO_TOUCH = false;\n            L_DISABLE_3D = false;\n        &lt;/script&gt;\n    \n    &lt;style&gt;html, body {width: 100%;height: 100%;margin: 0;padding: 0;}&lt;/style&gt;\n    &lt;style&gt;#map {position:absolute;top:0;bottom:0;right:0;left:0;}&lt;/style&gt;\n    &lt;script src=&quot;https://cdn.jsdelivr.net/npm/leaflet@1.9.3/dist/leaflet.js&quot;&gt;&lt;/script&gt;\n    &lt;script src=&quot;https://code.jquery.com/jquery-1.12.4.min.js&quot;&gt;&lt;/script&gt;\n    &lt;script src=&quot;https://cdn.jsdelivr.net/npm/bootstrap@5.2.2/dist/js/bootstrap.bundle.min.js&quot;&gt;&lt;/script&gt;\n    &lt;script src=&quot;https://cdnjs.cloudflare.com/ajax/libs/Leaflet.awesome-markers/2.0.2/leaflet.awesome-markers.js&quot;&gt;&lt;/script&gt;\n    &lt;link rel=&quot;stylesheet&quot; href=&quot;https://cdn.jsdelivr.net/npm/leaflet@1.9.3/dist/leaflet.css&quot;/&gt;\n    &lt;link rel=&quot;stylesheet&quot; href=&quot;https://cdn.jsdelivr.net/npm/bootstrap@5.2.2/dist/css/bootstrap.min.css&quot;/&gt;\n    &lt;link rel=&quot;stylesheet&quot; href=&quot;https://netdna.bootstrapcdn.com/bootstrap/3.0.0/css/bootstrap.min.css&quot;/&gt;\n    &lt;link rel=&quot;stylesheet&quot; href=&quot;https://cdn.jsdelivr.net/npm/@fortawesome/fontawesome-free@6.2.0/css/all.min.css&quot;/&gt;\n    &lt;link rel=&quot;stylesheet&quot; href=&quot;https://cdnjs.cloudflare.com/ajax/libs/Leaflet.awesome-markers/2.0.2/leaflet.awesome-markers.css&quot;/&gt;\n    &lt;link rel=&quot;stylesheet&quot; href=&quot;https://cdn.jsdelivr.net/gh/python-visualization/folium/folium/templates/leaflet.awesome.rotate.min.css&quot;/&gt;\n    \n            &lt;meta name=&quot;viewport&quot; content=&quot;width=device-width,\n                initial-scale=1.0, maximum-scale=1.0, user-scalable=no&quot; /&gt;\n            &lt;style&gt;\n                #map_f04849fe125819a07ed5c9e52f0ff545 {\n                    position: relative;\n                    width: 100.0%;\n                    height: 100.0%;\n                    left: 0.0%;\n                    top: 0.0%;\n                }\n                .leaflet-container { font-size: 1rem; }\n            &lt;/style&gt;\n        \n&lt;/head&gt;\n&lt;body&gt;\n    \n    \n            &lt;div class=&quot;folium-map&quot; id=&quot;map_f04849fe125819a07ed5c9e52f0ff545&quot; &gt;&lt;/div&gt;\n        \n&lt;/body&gt;\n&lt;script&gt;\n    \n    \n            var map_f04849fe125819a07ed5c9e52f0ff545 = L.map(\n                &quot;map_f04849fe125819a07ed5c9e52f0ff545&quot;,\n                {\n                    center: [29.559684888503615, -95.0830971930759],\n                    crs: L.CRS.EPSG3857,\n                    zoom: 10,\n                    zoomControl: true,\n                    preferCanvas: false,\n                }\n            );\n\n            \n\n        \n    \n            var tile_layer_f9edc4ee9127aeffe35d870d59a08b87 = L.tileLayer(\n                &quot;https://{s}.tile.openstreetmap.org/{z}/{x}/{y}.png&quot;,\n                {&quot;attribution&quot;: &quot;Data by \\u0026copy; \\u003ca target=\\&quot;_blank\\&quot; href=\\&quot;http://openstreetmap.org\\&quot;\\u003eOpenStreetMap\\u003c/a\\u003e, under \\u003ca target=\\&quot;_blank\\&quot; href=\\&quot;http://www.openstreetmap.org/copyright\\&quot;\\u003eODbL\\u003c/a\\u003e.&quot;, &quot;detectRetina&quot;: false, &quot;maxNativeZoom&quot;: 18, &quot;maxZoom&quot;: 18, &quot;minZoom&quot;: 0, &quot;noWrap&quot;: false, &quot;opacity&quot;: 1, &quot;subdomains&quot;: &quot;abc&quot;, &quot;tms&quot;: false}\n            ).addTo(map_f04849fe125819a07ed5c9e52f0ff545);\n        \n    \n            var circle_2208dcb07e0f254cb5a0be849f28ba1c = L.circle(\n                [29.559684888503615, -95.0830971930759],\n                {&quot;bubblingMouseEvents&quot;: true, &quot;color&quot;: &quot;#d35400&quot;, &quot;dashArray&quot;: null, &quot;dashOffset&quot;: null, &quot;fill&quot;: true, &quot;fillColor&quot;: &quot;#d35400&quot;, &quot;fillOpacity&quot;: 0.2, &quot;fillRule&quot;: &quot;evenodd&quot;, &quot;lineCap&quot;: &quot;round&quot;, &quot;lineJoin&quot;: &quot;round&quot;, &quot;opacity&quot;: 1.0, &quot;radius&quot;: 1000, &quot;stroke&quot;: true, &quot;weight&quot;: 3}\n            ).addTo(map_f04849fe125819a07ed5c9e52f0ff545);\n        \n    \n        var popup_05996fed9b184d0bb8cc0428565ce5b7 = L.popup({&quot;maxWidth&quot;: &quot;100%&quot;});\n\n        \n            \n                var html_54ab151f8902eddf2f17bf31db2ed034 = $(`&lt;div id=&quot;html_54ab151f8902eddf2f17bf31db2ed034&quot; style=&quot;width: 100.0%; height: 100.0%;&quot;&gt;NASA Johnson Space Center&lt;/div&gt;`)[0];\n                popup_05996fed9b184d0bb8cc0428565ce5b7.setContent(html_54ab151f8902eddf2f17bf31db2ed034);\n            \n        \n\n        circle_2208dcb07e0f254cb5a0be849f28ba1c.bindPopup(popup_05996fed9b184d0bb8cc0428565ce5b7)\n        ;\n\n        \n    \n    \n            var marker_d291c093163a18f84ab58380b114e02c = L.marker(\n                [29.559684888503615, -95.0830971930759],\n                {}\n            ).addTo(map_f04849fe125819a07ed5c9e52f0ff545);\n        \n    \n            var div_icon_2347202b28541b0748f54f84f4b41e4e = L.divIcon({&quot;className&quot;: &quot;empty&quot;, &quot;html&quot;: &quot;\\u003cdiv style=\\&quot;font-size: 12; color:#d35400;\\&quot;\\u003e\\u003cb\\u003eNASA JSC\\u003c/b\\u003e\\u003c/div\\u003e&quot;, &quot;iconAnchor&quot;: [0, 0], &quot;iconSize&quot;: [20, 20]});\n            marker_d291c093163a18f84ab58380b114e02c.setIcon(div_icon_2347202b28541b0748f54f84f4b41e4e);\n        \n&lt;/script&gt;\n&lt;/html&gt;\" style=\"position:absolute;width:100%;height:100%;left:0;top:0;border:none !important;\" allowfullscreen webkitallowfullscreen mozallowfullscreen></iframe></div></div>"
          },
          "metadata": {}
        }
      ]
    },
    {
      "cell_type": "markdown",
      "source": "and you should find a small yellow circle near the city of Houston and you can zoom-in to see a larger circle.\n",
      "metadata": {}
    },
    {
      "cell_type": "markdown",
      "source": "Now, let's add a circle for each launch site in data frame `launch_sites`\n",
      "metadata": {}
    },
    {
      "cell_type": "markdown",
      "source": "*TODO:*  Create and add `folium.Circle` and `folium.Marker` for each launch site on the site map\n",
      "metadata": {}
    },
    {
      "cell_type": "markdown",
      "source": "An example of folium.Circle:\n",
      "metadata": {}
    },
    {
      "cell_type": "markdown",
      "source": "`folium.Circle(coordinate, radius=1000, color='#000000', fill=True).add_child(folium.Popup(...))`\n",
      "metadata": {}
    },
    {
      "cell_type": "markdown",
      "source": "An example of folium.Marker:\n",
      "metadata": {}
    },
    {
      "cell_type": "markdown",
      "source": "`folium.map.Marker(coordinate, icon=DivIcon(icon_size=(20,20),icon_anchor=(0,0), html='<div style=\"font-size: 12; color:#d35400;\"><b>%s</b></div>' % 'label', ))`\n",
      "metadata": {}
    },
    {
      "cell_type": "code",
      "source": "# Initial the map\nsite_map = folium.Map(location=nasa_coordinate, zoom_start=5)\n# For each launch site, add a Circle object based on its coordinate (Lat, Long) values. In addition, add Launch site name as a popup label\nfor i in range(0, len(launch_sites_df)):\n    circle = folium.Circle([launch_sites_df.iloc[i]['Lat'], launch_sites_df.iloc[i]['Long']], radius=1000, color='#d35400', fill=True).add_child(folium.Popup(launch_sites_df.iloc[i]['Launch Site']))\n    marker = folium.map.Marker(\n    [launch_sites_df.iloc[i]['Lat'], launch_sites_df.iloc[i]['Long']],\n    # Create an icon as a text label\n    icon=DivIcon(\n        icon_size=(20,20),\n        icon_anchor=(0,0),\n        html='<div style=\"font-size: 12; color:#d35400;\"><b>%s</b></div>' % launch_sites_df.iloc[i]['Launch Site'],\n        )\n    )\n    site_map.add_child(marker)\n    site_map.add_child(circle)\n    \nsite_map",
      "metadata": {
        "trusted": true
      },
      "execution_count": 10,
      "outputs": [
        {
          "execution_count": 10,
          "output_type": "execute_result",
          "data": {
            "text/plain": "<folium.folium.Map at 0x44cee50>",
            "text/html": "<div style=\"width:100%;\"><div style=\"position:relative;width:100%;height:0;padding-bottom:60%;\"><span style=\"color:#565656\">Make this Notebook Trusted to load map: File -> Trust Notebook</span><iframe srcdoc=\"&lt;!DOCTYPE html&gt;\n&lt;html&gt;\n&lt;head&gt;\n    \n    &lt;meta http-equiv=&quot;content-type&quot; content=&quot;text/html; charset=UTF-8&quot; /&gt;\n    \n        &lt;script&gt;\n            L_NO_TOUCH = false;\n            L_DISABLE_3D = false;\n        &lt;/script&gt;\n    \n    &lt;style&gt;html, body {width: 100%;height: 100%;margin: 0;padding: 0;}&lt;/style&gt;\n    &lt;style&gt;#map {position:absolute;top:0;bottom:0;right:0;left:0;}&lt;/style&gt;\n    &lt;script src=&quot;https://cdn.jsdelivr.net/npm/leaflet@1.9.3/dist/leaflet.js&quot;&gt;&lt;/script&gt;\n    &lt;script src=&quot;https://code.jquery.com/jquery-1.12.4.min.js&quot;&gt;&lt;/script&gt;\n    &lt;script src=&quot;https://cdn.jsdelivr.net/npm/bootstrap@5.2.2/dist/js/bootstrap.bundle.min.js&quot;&gt;&lt;/script&gt;\n    &lt;script src=&quot;https://cdnjs.cloudflare.com/ajax/libs/Leaflet.awesome-markers/2.0.2/leaflet.awesome-markers.js&quot;&gt;&lt;/script&gt;\n    &lt;link rel=&quot;stylesheet&quot; href=&quot;https://cdn.jsdelivr.net/npm/leaflet@1.9.3/dist/leaflet.css&quot;/&gt;\n    &lt;link rel=&quot;stylesheet&quot; href=&quot;https://cdn.jsdelivr.net/npm/bootstrap@5.2.2/dist/css/bootstrap.min.css&quot;/&gt;\n    &lt;link rel=&quot;stylesheet&quot; href=&quot;https://netdna.bootstrapcdn.com/bootstrap/3.0.0/css/bootstrap.min.css&quot;/&gt;\n    &lt;link rel=&quot;stylesheet&quot; href=&quot;https://cdn.jsdelivr.net/npm/@fortawesome/fontawesome-free@6.2.0/css/all.min.css&quot;/&gt;\n    &lt;link rel=&quot;stylesheet&quot; href=&quot;https://cdnjs.cloudflare.com/ajax/libs/Leaflet.awesome-markers/2.0.2/leaflet.awesome-markers.css&quot;/&gt;\n    &lt;link rel=&quot;stylesheet&quot; href=&quot;https://cdn.jsdelivr.net/gh/python-visualization/folium/folium/templates/leaflet.awesome.rotate.min.css&quot;/&gt;\n    \n            &lt;meta name=&quot;viewport&quot; content=&quot;width=device-width,\n                initial-scale=1.0, maximum-scale=1.0, user-scalable=no&quot; /&gt;\n            &lt;style&gt;\n                #map_ed2fc7fa7f489b2bc4a2c1e7a67043de {\n                    position: relative;\n                    width: 100.0%;\n                    height: 100.0%;\n                    left: 0.0%;\n                    top: 0.0%;\n                }\n                .leaflet-container { font-size: 1rem; }\n            &lt;/style&gt;\n        \n&lt;/head&gt;\n&lt;body&gt;\n    \n    \n            &lt;div class=&quot;folium-map&quot; id=&quot;map_ed2fc7fa7f489b2bc4a2c1e7a67043de&quot; &gt;&lt;/div&gt;\n        \n&lt;/body&gt;\n&lt;script&gt;\n    \n    \n            var map_ed2fc7fa7f489b2bc4a2c1e7a67043de = L.map(\n                &quot;map_ed2fc7fa7f489b2bc4a2c1e7a67043de&quot;,\n                {\n                    center: [29.559684888503615, -95.0830971930759],\n                    crs: L.CRS.EPSG3857,\n                    zoom: 5,\n                    zoomControl: true,\n                    preferCanvas: false,\n                }\n            );\n\n            \n\n        \n    \n            var tile_layer_84e2f274624bf6758c7cbb5a2364cbc2 = L.tileLayer(\n                &quot;https://{s}.tile.openstreetmap.org/{z}/{x}/{y}.png&quot;,\n                {&quot;attribution&quot;: &quot;Data by \\u0026copy; \\u003ca target=\\&quot;_blank\\&quot; href=\\&quot;http://openstreetmap.org\\&quot;\\u003eOpenStreetMap\\u003c/a\\u003e, under \\u003ca target=\\&quot;_blank\\&quot; href=\\&quot;http://www.openstreetmap.org/copyright\\&quot;\\u003eODbL\\u003c/a\\u003e.&quot;, &quot;detectRetina&quot;: false, &quot;maxNativeZoom&quot;: 18, &quot;maxZoom&quot;: 18, &quot;minZoom&quot;: 0, &quot;noWrap&quot;: false, &quot;opacity&quot;: 1, &quot;subdomains&quot;: &quot;abc&quot;, &quot;tms&quot;: false}\n            ).addTo(map_ed2fc7fa7f489b2bc4a2c1e7a67043de);\n        \n    \n            var marker_47e1f9fc24e6dd218581748646c8e57f = L.marker(\n                [28.56230197, -80.57735648],\n                {}\n            ).addTo(map_ed2fc7fa7f489b2bc4a2c1e7a67043de);\n        \n    \n            var div_icon_91654ef08310beec745e9fc86f88c6ee = L.divIcon({&quot;className&quot;: &quot;empty&quot;, &quot;html&quot;: &quot;\\u003cdiv style=\\&quot;font-size: 12; color:#d35400;\\&quot;\\u003e\\u003cb\\u003eCCAFS LC-40\\u003c/b\\u003e\\u003c/div\\u003e&quot;, &quot;iconAnchor&quot;: [0, 0], &quot;iconSize&quot;: [20, 20]});\n            marker_47e1f9fc24e6dd218581748646c8e57f.setIcon(div_icon_91654ef08310beec745e9fc86f88c6ee);\n        \n    \n            var circle_efe5f65071900e69f66c0698cf57ce15 = L.circle(\n                [28.56230197, -80.57735648],\n                {&quot;bubblingMouseEvents&quot;: true, &quot;color&quot;: &quot;#d35400&quot;, &quot;dashArray&quot;: null, &quot;dashOffset&quot;: null, &quot;fill&quot;: true, &quot;fillColor&quot;: &quot;#d35400&quot;, &quot;fillOpacity&quot;: 0.2, &quot;fillRule&quot;: &quot;evenodd&quot;, &quot;lineCap&quot;: &quot;round&quot;, &quot;lineJoin&quot;: &quot;round&quot;, &quot;opacity&quot;: 1.0, &quot;radius&quot;: 1000, &quot;stroke&quot;: true, &quot;weight&quot;: 3}\n            ).addTo(map_ed2fc7fa7f489b2bc4a2c1e7a67043de);\n        \n    \n        var popup_479bd0e9c7a3d8cbe20028a582052baf = L.popup({&quot;maxWidth&quot;: &quot;100%&quot;});\n\n        \n            \n                var html_cf0c81dd102ac1423cd5562dbae4ffc6 = $(`&lt;div id=&quot;html_cf0c81dd102ac1423cd5562dbae4ffc6&quot; style=&quot;width: 100.0%; height: 100.0%;&quot;&gt;CCAFS LC-40&lt;/div&gt;`)[0];\n                popup_479bd0e9c7a3d8cbe20028a582052baf.setContent(html_cf0c81dd102ac1423cd5562dbae4ffc6);\n            \n        \n\n        circle_efe5f65071900e69f66c0698cf57ce15.bindPopup(popup_479bd0e9c7a3d8cbe20028a582052baf)\n        ;\n\n        \n    \n    \n            var marker_3a465b24df657a4ca4042f225482d62a = L.marker(\n                [28.56319718, -80.57682003],\n                {}\n            ).addTo(map_ed2fc7fa7f489b2bc4a2c1e7a67043de);\n        \n    \n            var div_icon_1cdf31210c30332a3d358179320d1c08 = L.divIcon({&quot;className&quot;: &quot;empty&quot;, &quot;html&quot;: &quot;\\u003cdiv style=\\&quot;font-size: 12; color:#d35400;\\&quot;\\u003e\\u003cb\\u003eCCAFS SLC-40\\u003c/b\\u003e\\u003c/div\\u003e&quot;, &quot;iconAnchor&quot;: [0, 0], &quot;iconSize&quot;: [20, 20]});\n            marker_3a465b24df657a4ca4042f225482d62a.setIcon(div_icon_1cdf31210c30332a3d358179320d1c08);\n        \n    \n            var circle_04b875d350f667b6391b815d997d6bdc = L.circle(\n                [28.56319718, -80.57682003],\n                {&quot;bubblingMouseEvents&quot;: true, &quot;color&quot;: &quot;#d35400&quot;, &quot;dashArray&quot;: null, &quot;dashOffset&quot;: null, &quot;fill&quot;: true, &quot;fillColor&quot;: &quot;#d35400&quot;, &quot;fillOpacity&quot;: 0.2, &quot;fillRule&quot;: &quot;evenodd&quot;, &quot;lineCap&quot;: &quot;round&quot;, &quot;lineJoin&quot;: &quot;round&quot;, &quot;opacity&quot;: 1.0, &quot;radius&quot;: 1000, &quot;stroke&quot;: true, &quot;weight&quot;: 3}\n            ).addTo(map_ed2fc7fa7f489b2bc4a2c1e7a67043de);\n        \n    \n        var popup_d2ade09d7d51e50d50785965976da5d4 = L.popup({&quot;maxWidth&quot;: &quot;100%&quot;});\n\n        \n            \n                var html_b17c06d1cc829c322b4c9c9dc50bd34e = $(`&lt;div id=&quot;html_b17c06d1cc829c322b4c9c9dc50bd34e&quot; style=&quot;width: 100.0%; height: 100.0%;&quot;&gt;CCAFS SLC-40&lt;/div&gt;`)[0];\n                popup_d2ade09d7d51e50d50785965976da5d4.setContent(html_b17c06d1cc829c322b4c9c9dc50bd34e);\n            \n        \n\n        circle_04b875d350f667b6391b815d997d6bdc.bindPopup(popup_d2ade09d7d51e50d50785965976da5d4)\n        ;\n\n        \n    \n    \n            var marker_0fd5d4816258d6693227a76a4b1f38ab = L.marker(\n                [28.57325457, -80.64689529],\n                {}\n            ).addTo(map_ed2fc7fa7f489b2bc4a2c1e7a67043de);\n        \n    \n            var div_icon_2cb3e167bd379344dbc98a4a9a5c10d2 = L.divIcon({&quot;className&quot;: &quot;empty&quot;, &quot;html&quot;: &quot;\\u003cdiv style=\\&quot;font-size: 12; color:#d35400;\\&quot;\\u003e\\u003cb\\u003eKSC LC-39A\\u003c/b\\u003e\\u003c/div\\u003e&quot;, &quot;iconAnchor&quot;: [0, 0], &quot;iconSize&quot;: [20, 20]});\n            marker_0fd5d4816258d6693227a76a4b1f38ab.setIcon(div_icon_2cb3e167bd379344dbc98a4a9a5c10d2);\n        \n    \n            var circle_4f3ebbbd9a0605fc2aead73fd9757826 = L.circle(\n                [28.57325457, -80.64689529],\n                {&quot;bubblingMouseEvents&quot;: true, &quot;color&quot;: &quot;#d35400&quot;, &quot;dashArray&quot;: null, &quot;dashOffset&quot;: null, &quot;fill&quot;: true, &quot;fillColor&quot;: &quot;#d35400&quot;, &quot;fillOpacity&quot;: 0.2, &quot;fillRule&quot;: &quot;evenodd&quot;, &quot;lineCap&quot;: &quot;round&quot;, &quot;lineJoin&quot;: &quot;round&quot;, &quot;opacity&quot;: 1.0, &quot;radius&quot;: 1000, &quot;stroke&quot;: true, &quot;weight&quot;: 3}\n            ).addTo(map_ed2fc7fa7f489b2bc4a2c1e7a67043de);\n        \n    \n        var popup_15fd3275f151e030a017c5c6684e218a = L.popup({&quot;maxWidth&quot;: &quot;100%&quot;});\n\n        \n            \n                var html_3f840a093457f0713100b5625acd6db8 = $(`&lt;div id=&quot;html_3f840a093457f0713100b5625acd6db8&quot; style=&quot;width: 100.0%; height: 100.0%;&quot;&gt;KSC LC-39A&lt;/div&gt;`)[0];\n                popup_15fd3275f151e030a017c5c6684e218a.setContent(html_3f840a093457f0713100b5625acd6db8);\n            \n        \n\n        circle_4f3ebbbd9a0605fc2aead73fd9757826.bindPopup(popup_15fd3275f151e030a017c5c6684e218a)\n        ;\n\n        \n    \n    \n            var marker_ac7841cff1bb547465452aecf98af4ad = L.marker(\n                [34.63283416, -120.6107455],\n                {}\n            ).addTo(map_ed2fc7fa7f489b2bc4a2c1e7a67043de);\n        \n    \n            var div_icon_670ad60e98b268250747fb3b81a9cf7c = L.divIcon({&quot;className&quot;: &quot;empty&quot;, &quot;html&quot;: &quot;\\u003cdiv style=\\&quot;font-size: 12; color:#d35400;\\&quot;\\u003e\\u003cb\\u003eVAFB SLC-4E\\u003c/b\\u003e\\u003c/div\\u003e&quot;, &quot;iconAnchor&quot;: [0, 0], &quot;iconSize&quot;: [20, 20]});\n            marker_ac7841cff1bb547465452aecf98af4ad.setIcon(div_icon_670ad60e98b268250747fb3b81a9cf7c);\n        \n    \n            var circle_76851ba03f6689701dc69e17f891dd9e = L.circle(\n                [34.63283416, -120.6107455],\n                {&quot;bubblingMouseEvents&quot;: true, &quot;color&quot;: &quot;#d35400&quot;, &quot;dashArray&quot;: null, &quot;dashOffset&quot;: null, &quot;fill&quot;: true, &quot;fillColor&quot;: &quot;#d35400&quot;, &quot;fillOpacity&quot;: 0.2, &quot;fillRule&quot;: &quot;evenodd&quot;, &quot;lineCap&quot;: &quot;round&quot;, &quot;lineJoin&quot;: &quot;round&quot;, &quot;opacity&quot;: 1.0, &quot;radius&quot;: 1000, &quot;stroke&quot;: true, &quot;weight&quot;: 3}\n            ).addTo(map_ed2fc7fa7f489b2bc4a2c1e7a67043de);\n        \n    \n        var popup_87e4991db67f766e477d73f6ed18c7f2 = L.popup({&quot;maxWidth&quot;: &quot;100%&quot;});\n\n        \n            \n                var html_573ce2cc7819fc96b7a540e550b571bb = $(`&lt;div id=&quot;html_573ce2cc7819fc96b7a540e550b571bb&quot; style=&quot;width: 100.0%; height: 100.0%;&quot;&gt;VAFB SLC-4E&lt;/div&gt;`)[0];\n                popup_87e4991db67f766e477d73f6ed18c7f2.setContent(html_573ce2cc7819fc96b7a540e550b571bb);\n            \n        \n\n        circle_76851ba03f6689701dc69e17f891dd9e.bindPopup(popup_87e4991db67f766e477d73f6ed18c7f2)\n        ;\n\n        \n    \n&lt;/script&gt;\n&lt;/html&gt;\" style=\"position:absolute;width:100%;height:100%;left:0;top:0;border:none !important;\" allowfullscreen webkitallowfullscreen mozallowfullscreen></iframe></div></div>"
          },
          "metadata": {}
        }
      ]
    },
    {
      "cell_type": "markdown",
      "source": "The generated map with marked launch sites should look similar to the following:\n",
      "metadata": {}
    },
    {
      "cell_type": "markdown",
      "source": "<center>\n    <img src=\"https://cf-courses-data.s3.us.cloud-object-storage.appdomain.cloud/IBM-DS0321EN-SkillsNetwork/labs/module_3/images/launch_site_markers.png\">\n</center>\n",
      "metadata": {}
    },
    {
      "cell_type": "markdown",
      "source": "Now, you can explore the map by zoom-in/out the marked areas\n, and try to answer the following questions:\n\n*   Are all launch sites in proximity to the Equator line?\n*   Are all launch sites in very close proximity to the coast?\n\nAlso please try to explain your findings.\n",
      "metadata": {}
    },
    {
      "cell_type": "code",
      "source": "# Task 2: Mark the success/failed launches for each site on the map\n",
      "metadata": {
        "trusted": true
      },
      "execution_count": 11,
      "outputs": []
    },
    {
      "cell_type": "markdown",
      "source": "Next, let's try to enhance the map by adding the launch outcomes for each site, and see which sites have high success rates.\nRecall that data frame spacex_df has detailed launch records, and the `class` column indicates if this launch was successful or not\n",
      "metadata": {}
    },
    {
      "cell_type": "code",
      "source": "spacex_df.tail(10)",
      "metadata": {
        "trusted": true
      },
      "execution_count": 15,
      "outputs": [
        {
          "execution_count": 15,
          "output_type": "execute_result",
          "data": {
            "text/plain": "     Launch Site        Lat       Long  class marker_color\n46    KSC LC-39A  28.573255 -80.646895      1        green\n47    KSC LC-39A  28.573255 -80.646895      1        green\n48    KSC LC-39A  28.573255 -80.646895      1        green\n49  CCAFS SLC-40  28.563197 -80.576820      1        green\n50  CCAFS SLC-40  28.563197 -80.576820      1        green\n51  CCAFS SLC-40  28.563197 -80.576820      0          red\n52  CCAFS SLC-40  28.563197 -80.576820      0          red\n53  CCAFS SLC-40  28.563197 -80.576820      0          red\n54  CCAFS SLC-40  28.563197 -80.576820      1        green\n55  CCAFS SLC-40  28.563197 -80.576820      0          red",
            "text/html": "<div>\n<style scoped>\n    .dataframe tbody tr th:only-of-type {\n        vertical-align: middle;\n    }\n\n    .dataframe tbody tr th {\n        vertical-align: top;\n    }\n\n    .dataframe thead th {\n        text-align: right;\n    }\n</style>\n<table border=\"1\" class=\"dataframe\">\n  <thead>\n    <tr style=\"text-align: right;\">\n      <th></th>\n      <th>Launch Site</th>\n      <th>Lat</th>\n      <th>Long</th>\n      <th>class</th>\n      <th>marker_color</th>\n    </tr>\n  </thead>\n  <tbody>\n    <tr>\n      <th>46</th>\n      <td>KSC LC-39A</td>\n      <td>28.573255</td>\n      <td>-80.646895</td>\n      <td>1</td>\n      <td>green</td>\n    </tr>\n    <tr>\n      <th>47</th>\n      <td>KSC LC-39A</td>\n      <td>28.573255</td>\n      <td>-80.646895</td>\n      <td>1</td>\n      <td>green</td>\n    </tr>\n    <tr>\n      <th>48</th>\n      <td>KSC LC-39A</td>\n      <td>28.573255</td>\n      <td>-80.646895</td>\n      <td>1</td>\n      <td>green</td>\n    </tr>\n    <tr>\n      <th>49</th>\n      <td>CCAFS SLC-40</td>\n      <td>28.563197</td>\n      <td>-80.576820</td>\n      <td>1</td>\n      <td>green</td>\n    </tr>\n    <tr>\n      <th>50</th>\n      <td>CCAFS SLC-40</td>\n      <td>28.563197</td>\n      <td>-80.576820</td>\n      <td>1</td>\n      <td>green</td>\n    </tr>\n    <tr>\n      <th>51</th>\n      <td>CCAFS SLC-40</td>\n      <td>28.563197</td>\n      <td>-80.576820</td>\n      <td>0</td>\n      <td>red</td>\n    </tr>\n    <tr>\n      <th>52</th>\n      <td>CCAFS SLC-40</td>\n      <td>28.563197</td>\n      <td>-80.576820</td>\n      <td>0</td>\n      <td>red</td>\n    </tr>\n    <tr>\n      <th>53</th>\n      <td>CCAFS SLC-40</td>\n      <td>28.563197</td>\n      <td>-80.576820</td>\n      <td>0</td>\n      <td>red</td>\n    </tr>\n    <tr>\n      <th>54</th>\n      <td>CCAFS SLC-40</td>\n      <td>28.563197</td>\n      <td>-80.576820</td>\n      <td>1</td>\n      <td>green</td>\n    </tr>\n    <tr>\n      <th>55</th>\n      <td>CCAFS SLC-40</td>\n      <td>28.563197</td>\n      <td>-80.576820</td>\n      <td>0</td>\n      <td>red</td>\n    </tr>\n  </tbody>\n</table>\n</div>"
          },
          "metadata": {}
        }
      ]
    },
    {
      "cell_type": "markdown",
      "source": "Next, let's create markers for all launch records.\nIf a launch was successful `(class=1)`, then we use a green marker and if a launch was failed, we use a red marker `(class=0)`\n",
      "metadata": {}
    },
    {
      "cell_type": "markdown",
      "source": "Note that a launch only happens in one of the four launch sites, which means many launch records will have the exact same coordinate. Marker clusters can be a good way to simplify a map containing many markers having the same coordinate.\n",
      "metadata": {}
    },
    {
      "cell_type": "markdown",
      "source": "Let's first create a `MarkerCluster` object\n",
      "metadata": {}
    },
    {
      "cell_type": "code",
      "source": "marker_cluster = MarkerCluster()\n",
      "metadata": {
        "trusted": true
      },
      "execution_count": 13,
      "outputs": []
    },
    {
      "cell_type": "markdown",
      "source": "*TODO:* Create a new column in `launch_sites` dataframe called `marker_color` to store the marker colors based on the `class` value\n",
      "metadata": {}
    },
    {
      "cell_type": "code",
      "source": "\n# Apply a function to check the value of `class` column\n# If class=1, marker_color value will be green\n# If class=0, marker_color value will be red\ndef assignColor(status):\n    if status == 1:\n        return 'green'\n    elif status == 0:\n        return 'red'\nspacex_df['marker_color'] = spacex_df.apply(lambda x:assignColor(x['class']), axis=1)",
      "metadata": {
        "trusted": true
      },
      "execution_count": 14,
      "outputs": []
    },
    {
      "cell_type": "markdown",
      "source": "*TODO:* For each launch result in `spacex_df` data frame, add a `folium.Marker` to `marker_cluster`\n",
      "metadata": {}
    },
    {
      "cell_type": "code",
      "source": "# Add marker_cluster to current site_map\nsite_map.add_child(marker_cluster)\n\n# for each row in spacex_df data frame\n# create a Marker object with its coordinate\n# and customize the Marker's icon property to indicate if this launch was successed or failed, \n# e.g., icon=folium.Icon(color='white', icon_color=row['marker_color']\nfor index, record in spacex_df.iterrows():\n    # TODO: Create and add a Marker cluster to the site map\n    marker = folium.Marker(location=[record['Lat'], record['Long']], color=record['marker_color'])\n    marker_cluster.add_child(marker)\n\nsite_map",
      "metadata": {
        "trusted": true
      },
      "execution_count": 13,
      "outputs": [
        {
          "execution_count": 13,
          "output_type": "execute_result",
          "data": {
            "text/plain": "<folium.folium.Map at 0x40a75e0>",
            "text/html": "<div style=\"width:100%;\"><div style=\"position:relative;width:100%;height:0;padding-bottom:60%;\"><span style=\"color:#565656\">Make this Notebook Trusted to load map: File -> Trust Notebook</span><iframe srcdoc=\"&lt;!DOCTYPE html&gt;\n&lt;html&gt;\n&lt;head&gt;\n    \n    &lt;meta http-equiv=&quot;content-type&quot; content=&quot;text/html; charset=UTF-8&quot; /&gt;\n    \n        &lt;script&gt;\n            L_NO_TOUCH = false;\n            L_DISABLE_3D = false;\n        &lt;/script&gt;\n    \n    &lt;style&gt;html, body {width: 100%;height: 100%;margin: 0;padding: 0;}&lt;/style&gt;\n    &lt;style&gt;#map {position:absolute;top:0;bottom:0;right:0;left:0;}&lt;/style&gt;\n    &lt;script src=&quot;https://cdn.jsdelivr.net/npm/leaflet@1.9.3/dist/leaflet.js&quot;&gt;&lt;/script&gt;\n    &lt;script src=&quot;https://code.jquery.com/jquery-1.12.4.min.js&quot;&gt;&lt;/script&gt;\n    &lt;script src=&quot;https://cdn.jsdelivr.net/npm/bootstrap@5.2.2/dist/js/bootstrap.bundle.min.js&quot;&gt;&lt;/script&gt;\n    &lt;script src=&quot;https://cdnjs.cloudflare.com/ajax/libs/Leaflet.awesome-markers/2.0.2/leaflet.awesome-markers.js&quot;&gt;&lt;/script&gt;\n    &lt;link rel=&quot;stylesheet&quot; href=&quot;https://cdn.jsdelivr.net/npm/leaflet@1.9.3/dist/leaflet.css&quot;/&gt;\n    &lt;link rel=&quot;stylesheet&quot; href=&quot;https://cdn.jsdelivr.net/npm/bootstrap@5.2.2/dist/css/bootstrap.min.css&quot;/&gt;\n    &lt;link rel=&quot;stylesheet&quot; href=&quot;https://netdna.bootstrapcdn.com/bootstrap/3.0.0/css/bootstrap.min.css&quot;/&gt;\n    &lt;link rel=&quot;stylesheet&quot; href=&quot;https://cdn.jsdelivr.net/npm/@fortawesome/fontawesome-free@6.2.0/css/all.min.css&quot;/&gt;\n    &lt;link rel=&quot;stylesheet&quot; href=&quot;https://cdnjs.cloudflare.com/ajax/libs/Leaflet.awesome-markers/2.0.2/leaflet.awesome-markers.css&quot;/&gt;\n    &lt;link rel=&quot;stylesheet&quot; href=&quot;https://cdn.jsdelivr.net/gh/python-visualization/folium/folium/templates/leaflet.awesome.rotate.min.css&quot;/&gt;\n    \n            &lt;meta name=&quot;viewport&quot; content=&quot;width=device-width,\n                initial-scale=1.0, maximum-scale=1.0, user-scalable=no&quot; /&gt;\n            &lt;style&gt;\n                #map_63e9009d8064deecb4ec589230b103b6 {\n                    position: relative;\n                    width: 100.0%;\n                    height: 100.0%;\n                    left: 0.0%;\n                    top: 0.0%;\n                }\n                .leaflet-container { font-size: 1rem; }\n            &lt;/style&gt;\n        \n    &lt;script src=&quot;https://cdnjs.cloudflare.com/ajax/libs/leaflet.markercluster/1.1.0/leaflet.markercluster.js&quot;&gt;&lt;/script&gt;\n    &lt;link rel=&quot;stylesheet&quot; href=&quot;https://cdnjs.cloudflare.com/ajax/libs/leaflet.markercluster/1.1.0/MarkerCluster.css&quot;/&gt;\n    &lt;link rel=&quot;stylesheet&quot; href=&quot;https://cdnjs.cloudflare.com/ajax/libs/leaflet.markercluster/1.1.0/MarkerCluster.Default.css&quot;/&gt;\n&lt;/head&gt;\n&lt;body&gt;\n    \n    \n            &lt;div class=&quot;folium-map&quot; id=&quot;map_63e9009d8064deecb4ec589230b103b6&quot; &gt;&lt;/div&gt;\n        \n&lt;/body&gt;\n&lt;script&gt;\n    \n    \n            var map_63e9009d8064deecb4ec589230b103b6 = L.map(\n                &quot;map_63e9009d8064deecb4ec589230b103b6&quot;,\n                {\n                    center: [29.559684888503615, -95.0830971930759],\n                    crs: L.CRS.EPSG3857,\n                    zoom: 5,\n                    zoomControl: true,\n                    preferCanvas: false,\n                }\n            );\n\n            \n\n        \n    \n            var tile_layer_30ba77b9a87a815bbcf5ece742fb494b = L.tileLayer(\n                &quot;https://{s}.tile.openstreetmap.org/{z}/{x}/{y}.png&quot;,\n                {&quot;attribution&quot;: &quot;Data by \\u0026copy; \\u003ca target=\\&quot;_blank\\&quot; href=\\&quot;http://openstreetmap.org\\&quot;\\u003eOpenStreetMap\\u003c/a\\u003e, under \\u003ca target=\\&quot;_blank\\&quot; href=\\&quot;http://www.openstreetmap.org/copyright\\&quot;\\u003eODbL\\u003c/a\\u003e.&quot;, &quot;detectRetina&quot;: false, &quot;maxNativeZoom&quot;: 18, &quot;maxZoom&quot;: 18, &quot;minZoom&quot;: 0, &quot;noWrap&quot;: false, &quot;opacity&quot;: 1, &quot;subdomains&quot;: &quot;abc&quot;, &quot;tms&quot;: false}\n            ).addTo(map_63e9009d8064deecb4ec589230b103b6);\n        \n    \n            var marker_1110ae89081c10a661c176027eccfed6 = L.marker(\n                [28.56230197, -80.57735648],\n                {}\n            ).addTo(map_63e9009d8064deecb4ec589230b103b6);\n        \n    \n            var div_icon_3d4fbaf883adc92a6db7b7fb18a43147 = L.divIcon({&quot;className&quot;: &quot;empty&quot;, &quot;html&quot;: &quot;\\u003cdiv style=\\&quot;font-size: 12; color:#d35400;\\&quot;\\u003e\\u003cb\\u003eCCAFS LC-40\\u003c/b\\u003e\\u003c/div\\u003e&quot;, &quot;iconAnchor&quot;: [0, 0], &quot;iconSize&quot;: [20, 20]});\n            marker_1110ae89081c10a661c176027eccfed6.setIcon(div_icon_3d4fbaf883adc92a6db7b7fb18a43147);\n        \n    \n            var circle_8a6bd612e0d4a18085bde56f580f9c13 = L.circle(\n                [28.56230197, -80.57735648],\n                {&quot;bubblingMouseEvents&quot;: true, &quot;color&quot;: &quot;#d35400&quot;, &quot;dashArray&quot;: null, &quot;dashOffset&quot;: null, &quot;fill&quot;: true, &quot;fillColor&quot;: &quot;#d35400&quot;, &quot;fillOpacity&quot;: 0.2, &quot;fillRule&quot;: &quot;evenodd&quot;, &quot;lineCap&quot;: &quot;round&quot;, &quot;lineJoin&quot;: &quot;round&quot;, &quot;opacity&quot;: 1.0, &quot;radius&quot;: 1000, &quot;stroke&quot;: true, &quot;weight&quot;: 3}\n            ).addTo(map_63e9009d8064deecb4ec589230b103b6);\n        \n    \n        var popup_06b890398f3ac8f23ff78707f3e929e8 = L.popup({&quot;maxWidth&quot;: &quot;100%&quot;});\n\n        \n            \n                var html_0a740dfea0df936a21488618ee94db14 = $(`&lt;div id=&quot;html_0a740dfea0df936a21488618ee94db14&quot; style=&quot;width: 100.0%; height: 100.0%;&quot;&gt;CCAFS LC-40&lt;/div&gt;`)[0];\n                popup_06b890398f3ac8f23ff78707f3e929e8.setContent(html_0a740dfea0df936a21488618ee94db14);\n            \n        \n\n        circle_8a6bd612e0d4a18085bde56f580f9c13.bindPopup(popup_06b890398f3ac8f23ff78707f3e929e8)\n        ;\n\n        \n    \n    \n            var marker_0ab1f1395021173472afbdb7cb305c74 = L.marker(\n                [28.56319718, -80.57682003],\n                {}\n            ).addTo(map_63e9009d8064deecb4ec589230b103b6);\n        \n    \n            var div_icon_d79478127bb11f36d7e3231230fa4ea1 = L.divIcon({&quot;className&quot;: &quot;empty&quot;, &quot;html&quot;: &quot;\\u003cdiv style=\\&quot;font-size: 12; color:#d35400;\\&quot;\\u003e\\u003cb\\u003eCCAFS SLC-40\\u003c/b\\u003e\\u003c/div\\u003e&quot;, &quot;iconAnchor&quot;: [0, 0], &quot;iconSize&quot;: [20, 20]});\n            marker_0ab1f1395021173472afbdb7cb305c74.setIcon(div_icon_d79478127bb11f36d7e3231230fa4ea1);\n        \n    \n            var circle_01ec4efff0b8c22e923a6effd424c9ac = L.circle(\n                [28.56319718, -80.57682003],\n                {&quot;bubblingMouseEvents&quot;: true, &quot;color&quot;: &quot;#d35400&quot;, &quot;dashArray&quot;: null, &quot;dashOffset&quot;: null, &quot;fill&quot;: true, &quot;fillColor&quot;: &quot;#d35400&quot;, &quot;fillOpacity&quot;: 0.2, &quot;fillRule&quot;: &quot;evenodd&quot;, &quot;lineCap&quot;: &quot;round&quot;, &quot;lineJoin&quot;: &quot;round&quot;, &quot;opacity&quot;: 1.0, &quot;radius&quot;: 1000, &quot;stroke&quot;: true, &quot;weight&quot;: 3}\n            ).addTo(map_63e9009d8064deecb4ec589230b103b6);\n        \n    \n        var popup_3d9424b1bd6965aa3c773419e43c4353 = L.popup({&quot;maxWidth&quot;: &quot;100%&quot;});\n\n        \n            \n                var html_07df52e0e88baea80b8cb63f8c51a343 = $(`&lt;div id=&quot;html_07df52e0e88baea80b8cb63f8c51a343&quot; style=&quot;width: 100.0%; height: 100.0%;&quot;&gt;CCAFS SLC-40&lt;/div&gt;`)[0];\n                popup_3d9424b1bd6965aa3c773419e43c4353.setContent(html_07df52e0e88baea80b8cb63f8c51a343);\n            \n        \n\n        circle_01ec4efff0b8c22e923a6effd424c9ac.bindPopup(popup_3d9424b1bd6965aa3c773419e43c4353)\n        ;\n\n        \n    \n    \n            var marker_045a425df1e4bdd723fe1468c5c70121 = L.marker(\n                [28.57325457, -80.64689529],\n                {}\n            ).addTo(map_63e9009d8064deecb4ec589230b103b6);\n        \n    \n            var div_icon_9ec74a687ac7b220280ce3b0eb45796f = L.divIcon({&quot;className&quot;: &quot;empty&quot;, &quot;html&quot;: &quot;\\u003cdiv style=\\&quot;font-size: 12; color:#d35400;\\&quot;\\u003e\\u003cb\\u003eKSC LC-39A\\u003c/b\\u003e\\u003c/div\\u003e&quot;, &quot;iconAnchor&quot;: [0, 0], &quot;iconSize&quot;: [20, 20]});\n            marker_045a425df1e4bdd723fe1468c5c70121.setIcon(div_icon_9ec74a687ac7b220280ce3b0eb45796f);\n        \n    \n            var circle_ba320900fb0c08311d45f7448647d380 = L.circle(\n                [28.57325457, -80.64689529],\n                {&quot;bubblingMouseEvents&quot;: true, &quot;color&quot;: &quot;#d35400&quot;, &quot;dashArray&quot;: null, &quot;dashOffset&quot;: null, &quot;fill&quot;: true, &quot;fillColor&quot;: &quot;#d35400&quot;, &quot;fillOpacity&quot;: 0.2, &quot;fillRule&quot;: &quot;evenodd&quot;, &quot;lineCap&quot;: &quot;round&quot;, &quot;lineJoin&quot;: &quot;round&quot;, &quot;opacity&quot;: 1.0, &quot;radius&quot;: 1000, &quot;stroke&quot;: true, &quot;weight&quot;: 3}\n            ).addTo(map_63e9009d8064deecb4ec589230b103b6);\n        \n    \n        var popup_c5bf862ff24c95c17f2f15a2694a28d9 = L.popup({&quot;maxWidth&quot;: &quot;100%&quot;});\n\n        \n            \n                var html_1d16b38fcb037d5e0dce447871094baa = $(`&lt;div id=&quot;html_1d16b38fcb037d5e0dce447871094baa&quot; style=&quot;width: 100.0%; height: 100.0%;&quot;&gt;KSC LC-39A&lt;/div&gt;`)[0];\n                popup_c5bf862ff24c95c17f2f15a2694a28d9.setContent(html_1d16b38fcb037d5e0dce447871094baa);\n            \n        \n\n        circle_ba320900fb0c08311d45f7448647d380.bindPopup(popup_c5bf862ff24c95c17f2f15a2694a28d9)\n        ;\n\n        \n    \n    \n            var marker_7a623f1d43796bba238750bbf645c4e7 = L.marker(\n                [34.63283416, -120.6107455],\n                {}\n            ).addTo(map_63e9009d8064deecb4ec589230b103b6);\n        \n    \n            var div_icon_827aa498296017098d21f0eba047d7cf = L.divIcon({&quot;className&quot;: &quot;empty&quot;, &quot;html&quot;: &quot;\\u003cdiv style=\\&quot;font-size: 12; color:#d35400;\\&quot;\\u003e\\u003cb\\u003eVAFB SLC-4E\\u003c/b\\u003e\\u003c/div\\u003e&quot;, &quot;iconAnchor&quot;: [0, 0], &quot;iconSize&quot;: [20, 20]});\n            marker_7a623f1d43796bba238750bbf645c4e7.setIcon(div_icon_827aa498296017098d21f0eba047d7cf);\n        \n    \n            var circle_cecbc5037993b904e78887d7d72d5af9 = L.circle(\n                [34.63283416, -120.6107455],\n                {&quot;bubblingMouseEvents&quot;: true, &quot;color&quot;: &quot;#d35400&quot;, &quot;dashArray&quot;: null, &quot;dashOffset&quot;: null, &quot;fill&quot;: true, &quot;fillColor&quot;: &quot;#d35400&quot;, &quot;fillOpacity&quot;: 0.2, &quot;fillRule&quot;: &quot;evenodd&quot;, &quot;lineCap&quot;: &quot;round&quot;, &quot;lineJoin&quot;: &quot;round&quot;, &quot;opacity&quot;: 1.0, &quot;radius&quot;: 1000, &quot;stroke&quot;: true, &quot;weight&quot;: 3}\n            ).addTo(map_63e9009d8064deecb4ec589230b103b6);\n        \n    \n        var popup_7684b3bbf0822417258e1429c4a1e230 = L.popup({&quot;maxWidth&quot;: &quot;100%&quot;});\n\n        \n            \n                var html_5bf0422167bc044dddf89317e5a9e747 = $(`&lt;div id=&quot;html_5bf0422167bc044dddf89317e5a9e747&quot; style=&quot;width: 100.0%; height: 100.0%;&quot;&gt;VAFB SLC-4E&lt;/div&gt;`)[0];\n                popup_7684b3bbf0822417258e1429c4a1e230.setContent(html_5bf0422167bc044dddf89317e5a9e747);\n            \n        \n\n        circle_cecbc5037993b904e78887d7d72d5af9.bindPopup(popup_7684b3bbf0822417258e1429c4a1e230)\n        ;\n\n        \n    \n    \n            var marker_cluster_7a58ac14e5cfd0fa963beef4bced40f9 = L.markerClusterGroup(\n                {}\n            );\n            map_63e9009d8064deecb4ec589230b103b6.addLayer(marker_cluster_7a58ac14e5cfd0fa963beef4bced40f9);\n        \n    \n            var marker_75b692d1a870bd69bac4bf364acac731 = L.marker(\n                [28.56230197, -80.57735648],\n                {&quot;color&quot;: &quot;red&quot;}\n            ).addTo(marker_cluster_7a58ac14e5cfd0fa963beef4bced40f9);\n        \n    \n            var marker_d25202e8fa8a700a1b917bd9e4d18dce = L.marker(\n                [28.56230197, -80.57735648],\n                {&quot;color&quot;: &quot;red&quot;}\n            ).addTo(marker_cluster_7a58ac14e5cfd0fa963beef4bced40f9);\n        \n    \n            var marker_dba6830fca9890f95ab2723294a3bead = L.marker(\n                [28.56230197, -80.57735648],\n                {&quot;color&quot;: &quot;red&quot;}\n            ).addTo(marker_cluster_7a58ac14e5cfd0fa963beef4bced40f9);\n        \n    \n            var marker_942bf19d03dd0d6757c85c544525c122 = L.marker(\n                [28.56230197, -80.57735648],\n                {&quot;color&quot;: &quot;red&quot;}\n            ).addTo(marker_cluster_7a58ac14e5cfd0fa963beef4bced40f9);\n        \n    \n            var marker_aa5942a976710a79578b2ce7c3b7cb8b = L.marker(\n                [28.56230197, -80.57735648],\n                {&quot;color&quot;: &quot;red&quot;}\n            ).addTo(marker_cluster_7a58ac14e5cfd0fa963beef4bced40f9);\n        \n    \n            var marker_9f593da54ebb82c70f983c36987a2aab = L.marker(\n                [28.56230197, -80.57735648],\n                {&quot;color&quot;: &quot;red&quot;}\n            ).addTo(marker_cluster_7a58ac14e5cfd0fa963beef4bced40f9);\n        \n    \n            var marker_e46849ec25d2ba01ffeba00f654f5fea = L.marker(\n                [28.56230197, -80.57735648],\n                {&quot;color&quot;: &quot;red&quot;}\n            ).addTo(marker_cluster_7a58ac14e5cfd0fa963beef4bced40f9);\n        \n    \n            var marker_672f8ffa0582b5e801cb228586b9b255 = L.marker(\n                [28.56230197, -80.57735648],\n                {&quot;color&quot;: &quot;red&quot;}\n            ).addTo(marker_cluster_7a58ac14e5cfd0fa963beef4bced40f9);\n        \n    \n            var marker_ae6f81a77db6f95d8b8a028230130d29 = L.marker(\n                [28.56230197, -80.57735648],\n                {&quot;color&quot;: &quot;red&quot;}\n            ).addTo(marker_cluster_7a58ac14e5cfd0fa963beef4bced40f9);\n        \n    \n            var marker_25cb7acad6c8ffac5404e5bb5f34296e = L.marker(\n                [28.56230197, -80.57735648],\n                {&quot;color&quot;: &quot;red&quot;}\n            ).addTo(marker_cluster_7a58ac14e5cfd0fa963beef4bced40f9);\n        \n    \n            var marker_5dd0f309c948a78058e38f488254677e = L.marker(\n                [28.56230197, -80.57735648],\n                {&quot;color&quot;: &quot;red&quot;}\n            ).addTo(marker_cluster_7a58ac14e5cfd0fa963beef4bced40f9);\n        \n    \n            var marker_d3d9ae8c736c347c936a4fdfb40a57b3 = L.marker(\n                [28.56230197, -80.57735648],\n                {&quot;color&quot;: &quot;red&quot;}\n            ).addTo(marker_cluster_7a58ac14e5cfd0fa963beef4bced40f9);\n        \n    \n            var marker_b93cd34b27128c6b9a5ce008064512a1 = L.marker(\n                [28.56230197, -80.57735648],\n                {&quot;color&quot;: &quot;red&quot;}\n            ).addTo(marker_cluster_7a58ac14e5cfd0fa963beef4bced40f9);\n        \n    \n            var marker_23a6c683fb880f7030984c1691681e42 = L.marker(\n                [28.56230197, -80.57735648],\n                {&quot;color&quot;: &quot;red&quot;}\n            ).addTo(marker_cluster_7a58ac14e5cfd0fa963beef4bced40f9);\n        \n    \n            var marker_5d6dc46c6ca29780e2834d25a0ded56d = L.marker(\n                [28.56230197, -80.57735648],\n                {&quot;color&quot;: &quot;red&quot;}\n            ).addTo(marker_cluster_7a58ac14e5cfd0fa963beef4bced40f9);\n        \n    \n            var marker_bfe5c1c40eb1d5d416907a6c280c6bc4 = L.marker(\n                [28.56230197, -80.57735648],\n                {&quot;color&quot;: &quot;red&quot;}\n            ).addTo(marker_cluster_7a58ac14e5cfd0fa963beef4bced40f9);\n        \n    \n            var marker_3bb7eebe8d7f68cfa2c09ca00f73571e = L.marker(\n                [28.56230197, -80.57735648],\n                {&quot;color&quot;: &quot;red&quot;}\n            ).addTo(marker_cluster_7a58ac14e5cfd0fa963beef4bced40f9);\n        \n    \n            var marker_05508ffbf25ea609aaaef3f5d94aea80 = L.marker(\n                [28.56230197, -80.57735648],\n                {&quot;color&quot;: &quot;green&quot;}\n            ).addTo(marker_cluster_7a58ac14e5cfd0fa963beef4bced40f9);\n        \n    \n            var marker_e6df7e87a9be8e1899df745c8abeb183 = L.marker(\n                [28.56230197, -80.57735648],\n                {&quot;color&quot;: &quot;green&quot;}\n            ).addTo(marker_cluster_7a58ac14e5cfd0fa963beef4bced40f9);\n        \n    \n            var marker_c4aceca2719e23304d9b97d14ee5af88 = L.marker(\n                [28.56230197, -80.57735648],\n                {&quot;color&quot;: &quot;red&quot;}\n            ).addTo(marker_cluster_7a58ac14e5cfd0fa963beef4bced40f9);\n        \n    \n            var marker_88f6979b745e249bd137f7cd27155512 = L.marker(\n                [28.56230197, -80.57735648],\n                {&quot;color&quot;: &quot;green&quot;}\n            ).addTo(marker_cluster_7a58ac14e5cfd0fa963beef4bced40f9);\n        \n    \n            var marker_133fbfafd99aa264d1d8909e85e1fd69 = L.marker(\n                [28.56230197, -80.57735648],\n                {&quot;color&quot;: &quot;green&quot;}\n            ).addTo(marker_cluster_7a58ac14e5cfd0fa963beef4bced40f9);\n        \n    \n            var marker_0c765423ca00b49685aa9f0df34b2a95 = L.marker(\n                [28.56230197, -80.57735648],\n                {&quot;color&quot;: &quot;green&quot;}\n            ).addTo(marker_cluster_7a58ac14e5cfd0fa963beef4bced40f9);\n        \n    \n            var marker_51d411c07db00355350d6a5d59000acc = L.marker(\n                [28.56230197, -80.57735648],\n                {&quot;color&quot;: &quot;red&quot;}\n            ).addTo(marker_cluster_7a58ac14e5cfd0fa963beef4bced40f9);\n        \n    \n            var marker_e983952714e61ffddf0b80c1a776715f = L.marker(\n                [28.56230197, -80.57735648],\n                {&quot;color&quot;: &quot;green&quot;}\n            ).addTo(marker_cluster_7a58ac14e5cfd0fa963beef4bced40f9);\n        \n    \n            var marker_29a9f8ea55a10668d8dd4ea5dcdb0533 = L.marker(\n                [28.56230197, -80.57735648],\n                {&quot;color&quot;: &quot;green&quot;}\n            ).addTo(marker_cluster_7a58ac14e5cfd0fa963beef4bced40f9);\n        \n    \n            var marker_db8f1bfd0eb754490102091ae7f4f83f = L.marker(\n                [34.63283416, -120.6107455],\n                {&quot;color&quot;: &quot;red&quot;}\n            ).addTo(marker_cluster_7a58ac14e5cfd0fa963beef4bced40f9);\n        \n    \n            var marker_f3240285ed8990ae0eeccf045880f174 = L.marker(\n                [34.63283416, -120.6107455],\n                {&quot;color&quot;: &quot;red&quot;}\n            ).addTo(marker_cluster_7a58ac14e5cfd0fa963beef4bced40f9);\n        \n    \n            var marker_87ee23c172172b4d0dfd969b61ab9d56 = L.marker(\n                [34.63283416, -120.6107455],\n                {&quot;color&quot;: &quot;green&quot;}\n            ).addTo(marker_cluster_7a58ac14e5cfd0fa963beef4bced40f9);\n        \n    \n            var marker_399b54cf5859b11129f38abd5a0164b5 = L.marker(\n                [34.63283416, -120.6107455],\n                {&quot;color&quot;: &quot;green&quot;}\n            ).addTo(marker_cluster_7a58ac14e5cfd0fa963beef4bced40f9);\n        \n    \n            var marker_34d52a9bc80a6ae37d8a6a8b3c9c9a15 = L.marker(\n                [34.63283416, -120.6107455],\n                {&quot;color&quot;: &quot;green&quot;}\n            ).addTo(marker_cluster_7a58ac14e5cfd0fa963beef4bced40f9);\n        \n    \n            var marker_b051db79306cddd510e4be1b0750fdfb = L.marker(\n                [34.63283416, -120.6107455],\n                {&quot;color&quot;: &quot;green&quot;}\n            ).addTo(marker_cluster_7a58ac14e5cfd0fa963beef4bced40f9);\n        \n    \n            var marker_e2ffab3e7a519e1074c5206c69508465 = L.marker(\n                [34.63283416, -120.6107455],\n                {&quot;color&quot;: &quot;red&quot;}\n            ).addTo(marker_cluster_7a58ac14e5cfd0fa963beef4bced40f9);\n        \n    \n            var marker_6780b34b154549cc32451f014b3653dc = L.marker(\n                [34.63283416, -120.6107455],\n                {&quot;color&quot;: &quot;red&quot;}\n            ).addTo(marker_cluster_7a58ac14e5cfd0fa963beef4bced40f9);\n        \n    \n            var marker_58af81078e27887f321055d4d81c05c6 = L.marker(\n                [34.63283416, -120.6107455],\n                {&quot;color&quot;: &quot;red&quot;}\n            ).addTo(marker_cluster_7a58ac14e5cfd0fa963beef4bced40f9);\n        \n    \n            var marker_485fe5ce762313162ed20fae396f9c33 = L.marker(\n                [34.63283416, -120.6107455],\n                {&quot;color&quot;: &quot;red&quot;}\n            ).addTo(marker_cluster_7a58ac14e5cfd0fa963beef4bced40f9);\n        \n    \n            var marker_8fc3a02e27677499ad516676ab12c4fe = L.marker(\n                [28.57325457, -80.64689529],\n                {&quot;color&quot;: &quot;green&quot;}\n            ).addTo(marker_cluster_7a58ac14e5cfd0fa963beef4bced40f9);\n        \n    \n            var marker_172b5862dca2921e1cba07172df38986 = L.marker(\n                [28.57325457, -80.64689529],\n                {&quot;color&quot;: &quot;red&quot;}\n            ).addTo(marker_cluster_7a58ac14e5cfd0fa963beef4bced40f9);\n        \n    \n            var marker_cc44fed197e089b090704ba9ff64d3a9 = L.marker(\n                [28.57325457, -80.64689529],\n                {&quot;color&quot;: &quot;green&quot;}\n            ).addTo(marker_cluster_7a58ac14e5cfd0fa963beef4bced40f9);\n        \n    \n            var marker_6317b05cafc395adc8bd7fa46f842c68 = L.marker(\n                [28.57325457, -80.64689529],\n                {&quot;color&quot;: &quot;green&quot;}\n            ).addTo(marker_cluster_7a58ac14e5cfd0fa963beef4bced40f9);\n        \n    \n            var marker_5ed13f74aa6e3ab87acf38b21d1fba08 = L.marker(\n                [28.57325457, -80.64689529],\n                {&quot;color&quot;: &quot;red&quot;}\n            ).addTo(marker_cluster_7a58ac14e5cfd0fa963beef4bced40f9);\n        \n    \n            var marker_b79c92899b561cc9f9b0d2cb258c2e06 = L.marker(\n                [28.57325457, -80.64689529],\n                {&quot;color&quot;: &quot;green&quot;}\n            ).addTo(marker_cluster_7a58ac14e5cfd0fa963beef4bced40f9);\n        \n    \n            var marker_6d92e1a723029d6c33581e52d81df96b = L.marker(\n                [28.57325457, -80.64689529],\n                {&quot;color&quot;: &quot;green&quot;}\n            ).addTo(marker_cluster_7a58ac14e5cfd0fa963beef4bced40f9);\n        \n    \n            var marker_cc704a90ad42f0cb0672aed881942936 = L.marker(\n                [28.57325457, -80.64689529],\n                {&quot;color&quot;: &quot;red&quot;}\n            ).addTo(marker_cluster_7a58ac14e5cfd0fa963beef4bced40f9);\n        \n    \n            var marker_6d9c6b0cf3f6c6112b56ad3694b33d98 = L.marker(\n                [28.57325457, -80.64689529],\n                {&quot;color&quot;: &quot;green&quot;}\n            ).addTo(marker_cluster_7a58ac14e5cfd0fa963beef4bced40f9);\n        \n    \n            var marker_b7a081ad40c3e11806722a072a1f5156 = L.marker(\n                [28.57325457, -80.64689529],\n                {&quot;color&quot;: &quot;green&quot;}\n            ).addTo(marker_cluster_7a58ac14e5cfd0fa963beef4bced40f9);\n        \n    \n            var marker_0501636201caee66111a3f6841d447d1 = L.marker(\n                [28.57325457, -80.64689529],\n                {&quot;color&quot;: &quot;green&quot;}\n            ).addTo(marker_cluster_7a58ac14e5cfd0fa963beef4bced40f9);\n        \n    \n            var marker_c26201a882e8c0310f63edc3b74f0818 = L.marker(\n                [28.57325457, -80.64689529],\n                {&quot;color&quot;: &quot;green&quot;}\n            ).addTo(marker_cluster_7a58ac14e5cfd0fa963beef4bced40f9);\n        \n    \n            var marker_2a76e1315cfc5020515f933e6e30a9a9 = L.marker(\n                [28.57325457, -80.64689529],\n                {&quot;color&quot;: &quot;green&quot;}\n            ).addTo(marker_cluster_7a58ac14e5cfd0fa963beef4bced40f9);\n        \n    \n            var marker_b98971f66791a64a325d2ab25eb4936a = L.marker(\n                [28.56319718, -80.57682003],\n                {&quot;color&quot;: &quot;green&quot;}\n            ).addTo(marker_cluster_7a58ac14e5cfd0fa963beef4bced40f9);\n        \n    \n            var marker_ab96d6bb5a123dfac20e04011fb99e1c = L.marker(\n                [28.56319718, -80.57682003],\n                {&quot;color&quot;: &quot;green&quot;}\n            ).addTo(marker_cluster_7a58ac14e5cfd0fa963beef4bced40f9);\n        \n    \n            var marker_da84c8961462c00398f713db2ed10694 = L.marker(\n                [28.56319718, -80.57682003],\n                {&quot;color&quot;: &quot;red&quot;}\n            ).addTo(marker_cluster_7a58ac14e5cfd0fa963beef4bced40f9);\n        \n    \n            var marker_4b71156037726ff9358860c1ca9efda4 = L.marker(\n                [28.56319718, -80.57682003],\n                {&quot;color&quot;: &quot;red&quot;}\n            ).addTo(marker_cluster_7a58ac14e5cfd0fa963beef4bced40f9);\n        \n    \n            var marker_4cc556c6677ab9e564c8f3df1fd45443 = L.marker(\n                [28.56319718, -80.57682003],\n                {&quot;color&quot;: &quot;red&quot;}\n            ).addTo(marker_cluster_7a58ac14e5cfd0fa963beef4bced40f9);\n        \n    \n            var marker_0cc0aca6efa148d219cfdd471b0fd06b = L.marker(\n                [28.56319718, -80.57682003],\n                {&quot;color&quot;: &quot;green&quot;}\n            ).addTo(marker_cluster_7a58ac14e5cfd0fa963beef4bced40f9);\n        \n    \n            var marker_5f927d6f78c021cbaf497c5ec13d57e7 = L.marker(\n                [28.56319718, -80.57682003],\n                {&quot;color&quot;: &quot;red&quot;}\n            ).addTo(marker_cluster_7a58ac14e5cfd0fa963beef4bced40f9);\n        \n&lt;/script&gt;\n&lt;/html&gt;\" style=\"position:absolute;width:100%;height:100%;left:0;top:0;border:none !important;\" allowfullscreen webkitallowfullscreen mozallowfullscreen></iframe></div></div>"
          },
          "metadata": {}
        }
      ]
    },
    {
      "cell_type": "markdown",
      "source": "Your updated map may look like the following screenshots:\n",
      "metadata": {}
    },
    {
      "cell_type": "markdown",
      "source": "<center>\n    <img src=\"https://cf-courses-data.s3.us.cloud-object-storage.appdomain.cloud/IBM-DS0321EN-SkillsNetwork/labs/module_3/images/launch_site_marker_cluster.png\">\n</center>\n",
      "metadata": {}
    },
    {
      "cell_type": "markdown",
      "source": "<center>\n    <img src=\"https://cf-courses-data.s3.us.cloud-object-storage.appdomain.cloud/IBM-DS0321EN-SkillsNetwork/labs/module_3/images/launch_site_marker_cluster_zoomed.png\">\n</center>\n",
      "metadata": {}
    },
    {
      "cell_type": "markdown",
      "source": "From the color-labeled markers in marker clusters, you should be able to easily identify which launch sites have relatively high success rates.\n",
      "metadata": {}
    },
    {
      "cell_type": "code",
      "source": "# TASK 3: Calculate the distances between a launch site to its proximities\n",
      "metadata": {},
      "execution_count": null,
      "outputs": []
    },
    {
      "cell_type": "markdown",
      "source": "Next, we need to explore and analyze the proximities of launch sites.\n",
      "metadata": {}
    },
    {
      "cell_type": "markdown",
      "source": "Let's first add a `MousePosition` on the map to get coordinate for a mouse over a point on the map. As such, while you are exploring the map, you can easily find the coordinates of any points of interests (such as railway)\n",
      "metadata": {}
    },
    {
      "cell_type": "code",
      "source": "# Add Mouse Position to get the coordinate (Lat, Long) for a mouse over on the map\nformatter = \"function(num) {return L.Util.formatNum(num, 5);};\"\nmouse_position = MousePosition(\n    position='topright',\n    separator=' Long: ',\n    empty_string='NaN',\n    lng_first=False,\n    num_digits=20,\n    prefix='Lat:',\n    lat_formatter=formatter,\n    lng_formatter=formatter,\n)\n\nsite_map.add_child(mouse_position)\nsite_map",
      "metadata": {
        "trusted": true
      },
      "execution_count": 16,
      "outputs": [
        {
          "execution_count": 16,
          "output_type": "execute_result",
          "data": {
            "text/plain": "<folium.folium.Map at 0x44cee50>",
            "text/html": "<div style=\"width:100%;\"><div style=\"position:relative;width:100%;height:0;padding-bottom:60%;\"><span style=\"color:#565656\">Make this Notebook Trusted to load map: File -> Trust Notebook</span><iframe srcdoc=\"&lt;!DOCTYPE html&gt;\n&lt;html&gt;\n&lt;head&gt;\n    \n    &lt;meta http-equiv=&quot;content-type&quot; content=&quot;text/html; charset=UTF-8&quot; /&gt;\n    \n        &lt;script&gt;\n            L_NO_TOUCH = false;\n            L_DISABLE_3D = false;\n        &lt;/script&gt;\n    \n    &lt;style&gt;html, body {width: 100%;height: 100%;margin: 0;padding: 0;}&lt;/style&gt;\n    &lt;style&gt;#map {position:absolute;top:0;bottom:0;right:0;left:0;}&lt;/style&gt;\n    &lt;script src=&quot;https://cdn.jsdelivr.net/npm/leaflet@1.9.3/dist/leaflet.js&quot;&gt;&lt;/script&gt;\n    &lt;script src=&quot;https://code.jquery.com/jquery-1.12.4.min.js&quot;&gt;&lt;/script&gt;\n    &lt;script src=&quot;https://cdn.jsdelivr.net/npm/bootstrap@5.2.2/dist/js/bootstrap.bundle.min.js&quot;&gt;&lt;/script&gt;\n    &lt;script src=&quot;https://cdnjs.cloudflare.com/ajax/libs/Leaflet.awesome-markers/2.0.2/leaflet.awesome-markers.js&quot;&gt;&lt;/script&gt;\n    &lt;link rel=&quot;stylesheet&quot; href=&quot;https://cdn.jsdelivr.net/npm/leaflet@1.9.3/dist/leaflet.css&quot;/&gt;\n    &lt;link rel=&quot;stylesheet&quot; href=&quot;https://cdn.jsdelivr.net/npm/bootstrap@5.2.2/dist/css/bootstrap.min.css&quot;/&gt;\n    &lt;link rel=&quot;stylesheet&quot; href=&quot;https://netdna.bootstrapcdn.com/bootstrap/3.0.0/css/bootstrap.min.css&quot;/&gt;\n    &lt;link rel=&quot;stylesheet&quot; href=&quot;https://cdn.jsdelivr.net/npm/@fortawesome/fontawesome-free@6.2.0/css/all.min.css&quot;/&gt;\n    &lt;link rel=&quot;stylesheet&quot; href=&quot;https://cdnjs.cloudflare.com/ajax/libs/Leaflet.awesome-markers/2.0.2/leaflet.awesome-markers.css&quot;/&gt;\n    &lt;link rel=&quot;stylesheet&quot; href=&quot;https://cdn.jsdelivr.net/gh/python-visualization/folium/folium/templates/leaflet.awesome.rotate.min.css&quot;/&gt;\n    \n            &lt;meta name=&quot;viewport&quot; content=&quot;width=device-width,\n                initial-scale=1.0, maximum-scale=1.0, user-scalable=no&quot; /&gt;\n            &lt;style&gt;\n                #map_ed2fc7fa7f489b2bc4a2c1e7a67043de {\n                    position: relative;\n                    width: 100.0%;\n                    height: 100.0%;\n                    left: 0.0%;\n                    top: 0.0%;\n                }\n                .leaflet-container { font-size: 1rem; }\n            &lt;/style&gt;\n        \n    &lt;script src=&quot;https://cdn.jsdelivr.net/gh/ardhi/Leaflet.MousePosition/src/L.Control.MousePosition.min.js&quot;&gt;&lt;/script&gt;\n    &lt;link rel=&quot;stylesheet&quot; href=&quot;https://cdn.jsdelivr.net/gh/ardhi/Leaflet.MousePosition/src/L.Control.MousePosition.min.css&quot;/&gt;\n&lt;/head&gt;\n&lt;body&gt;\n    \n    \n            &lt;div class=&quot;folium-map&quot; id=&quot;map_ed2fc7fa7f489b2bc4a2c1e7a67043de&quot; &gt;&lt;/div&gt;\n        \n&lt;/body&gt;\n&lt;script&gt;\n    \n    \n            var map_ed2fc7fa7f489b2bc4a2c1e7a67043de = L.map(\n                &quot;map_ed2fc7fa7f489b2bc4a2c1e7a67043de&quot;,\n                {\n                    center: [29.559684888503615, -95.0830971930759],\n                    crs: L.CRS.EPSG3857,\n                    zoom: 5,\n                    zoomControl: true,\n                    preferCanvas: false,\n                }\n            );\n\n            \n\n        \n    \n            var tile_layer_84e2f274624bf6758c7cbb5a2364cbc2 = L.tileLayer(\n                &quot;https://{s}.tile.openstreetmap.org/{z}/{x}/{y}.png&quot;,\n                {&quot;attribution&quot;: &quot;Data by \\u0026copy; \\u003ca target=\\&quot;_blank\\&quot; href=\\&quot;http://openstreetmap.org\\&quot;\\u003eOpenStreetMap\\u003c/a\\u003e, under \\u003ca target=\\&quot;_blank\\&quot; href=\\&quot;http://www.openstreetmap.org/copyright\\&quot;\\u003eODbL\\u003c/a\\u003e.&quot;, &quot;detectRetina&quot;: false, &quot;maxNativeZoom&quot;: 18, &quot;maxZoom&quot;: 18, &quot;minZoom&quot;: 0, &quot;noWrap&quot;: false, &quot;opacity&quot;: 1, &quot;subdomains&quot;: &quot;abc&quot;, &quot;tms&quot;: false}\n            ).addTo(map_ed2fc7fa7f489b2bc4a2c1e7a67043de);\n        \n    \n            var marker_47e1f9fc24e6dd218581748646c8e57f = L.marker(\n                [28.56230197, -80.57735648],\n                {}\n            ).addTo(map_ed2fc7fa7f489b2bc4a2c1e7a67043de);\n        \n    \n            var div_icon_91654ef08310beec745e9fc86f88c6ee = L.divIcon({&quot;className&quot;: &quot;empty&quot;, &quot;html&quot;: &quot;\\u003cdiv style=\\&quot;font-size: 12; color:#d35400;\\&quot;\\u003e\\u003cb\\u003eCCAFS LC-40\\u003c/b\\u003e\\u003c/div\\u003e&quot;, &quot;iconAnchor&quot;: [0, 0], &quot;iconSize&quot;: [20, 20]});\n            marker_47e1f9fc24e6dd218581748646c8e57f.setIcon(div_icon_91654ef08310beec745e9fc86f88c6ee);\n        \n    \n            var circle_efe5f65071900e69f66c0698cf57ce15 = L.circle(\n                [28.56230197, -80.57735648],\n                {&quot;bubblingMouseEvents&quot;: true, &quot;color&quot;: &quot;#d35400&quot;, &quot;dashArray&quot;: null, &quot;dashOffset&quot;: null, &quot;fill&quot;: true, &quot;fillColor&quot;: &quot;#d35400&quot;, &quot;fillOpacity&quot;: 0.2, &quot;fillRule&quot;: &quot;evenodd&quot;, &quot;lineCap&quot;: &quot;round&quot;, &quot;lineJoin&quot;: &quot;round&quot;, &quot;opacity&quot;: 1.0, &quot;radius&quot;: 1000, &quot;stroke&quot;: true, &quot;weight&quot;: 3}\n            ).addTo(map_ed2fc7fa7f489b2bc4a2c1e7a67043de);\n        \n    \n        var popup_479bd0e9c7a3d8cbe20028a582052baf = L.popup({&quot;maxWidth&quot;: &quot;100%&quot;});\n\n        \n            \n                var html_cf0c81dd102ac1423cd5562dbae4ffc6 = $(`&lt;div id=&quot;html_cf0c81dd102ac1423cd5562dbae4ffc6&quot; style=&quot;width: 100.0%; height: 100.0%;&quot;&gt;CCAFS LC-40&lt;/div&gt;`)[0];\n                popup_479bd0e9c7a3d8cbe20028a582052baf.setContent(html_cf0c81dd102ac1423cd5562dbae4ffc6);\n            \n        \n\n        circle_efe5f65071900e69f66c0698cf57ce15.bindPopup(popup_479bd0e9c7a3d8cbe20028a582052baf)\n        ;\n\n        \n    \n    \n            var marker_3a465b24df657a4ca4042f225482d62a = L.marker(\n                [28.56319718, -80.57682003],\n                {}\n            ).addTo(map_ed2fc7fa7f489b2bc4a2c1e7a67043de);\n        \n    \n            var div_icon_1cdf31210c30332a3d358179320d1c08 = L.divIcon({&quot;className&quot;: &quot;empty&quot;, &quot;html&quot;: &quot;\\u003cdiv style=\\&quot;font-size: 12; color:#d35400;\\&quot;\\u003e\\u003cb\\u003eCCAFS SLC-40\\u003c/b\\u003e\\u003c/div\\u003e&quot;, &quot;iconAnchor&quot;: [0, 0], &quot;iconSize&quot;: [20, 20]});\n            marker_3a465b24df657a4ca4042f225482d62a.setIcon(div_icon_1cdf31210c30332a3d358179320d1c08);\n        \n    \n            var circle_04b875d350f667b6391b815d997d6bdc = L.circle(\n                [28.56319718, -80.57682003],\n                {&quot;bubblingMouseEvents&quot;: true, &quot;color&quot;: &quot;#d35400&quot;, &quot;dashArray&quot;: null, &quot;dashOffset&quot;: null, &quot;fill&quot;: true, &quot;fillColor&quot;: &quot;#d35400&quot;, &quot;fillOpacity&quot;: 0.2, &quot;fillRule&quot;: &quot;evenodd&quot;, &quot;lineCap&quot;: &quot;round&quot;, &quot;lineJoin&quot;: &quot;round&quot;, &quot;opacity&quot;: 1.0, &quot;radius&quot;: 1000, &quot;stroke&quot;: true, &quot;weight&quot;: 3}\n            ).addTo(map_ed2fc7fa7f489b2bc4a2c1e7a67043de);\n        \n    \n        var popup_d2ade09d7d51e50d50785965976da5d4 = L.popup({&quot;maxWidth&quot;: &quot;100%&quot;});\n\n        \n            \n                var html_b17c06d1cc829c322b4c9c9dc50bd34e = $(`&lt;div id=&quot;html_b17c06d1cc829c322b4c9c9dc50bd34e&quot; style=&quot;width: 100.0%; height: 100.0%;&quot;&gt;CCAFS SLC-40&lt;/div&gt;`)[0];\n                popup_d2ade09d7d51e50d50785965976da5d4.setContent(html_b17c06d1cc829c322b4c9c9dc50bd34e);\n            \n        \n\n        circle_04b875d350f667b6391b815d997d6bdc.bindPopup(popup_d2ade09d7d51e50d50785965976da5d4)\n        ;\n\n        \n    \n    \n            var marker_0fd5d4816258d6693227a76a4b1f38ab = L.marker(\n                [28.57325457, -80.64689529],\n                {}\n            ).addTo(map_ed2fc7fa7f489b2bc4a2c1e7a67043de);\n        \n    \n            var div_icon_2cb3e167bd379344dbc98a4a9a5c10d2 = L.divIcon({&quot;className&quot;: &quot;empty&quot;, &quot;html&quot;: &quot;\\u003cdiv style=\\&quot;font-size: 12; color:#d35400;\\&quot;\\u003e\\u003cb\\u003eKSC LC-39A\\u003c/b\\u003e\\u003c/div\\u003e&quot;, &quot;iconAnchor&quot;: [0, 0], &quot;iconSize&quot;: [20, 20]});\n            marker_0fd5d4816258d6693227a76a4b1f38ab.setIcon(div_icon_2cb3e167bd379344dbc98a4a9a5c10d2);\n        \n    \n            var circle_4f3ebbbd9a0605fc2aead73fd9757826 = L.circle(\n                [28.57325457, -80.64689529],\n                {&quot;bubblingMouseEvents&quot;: true, &quot;color&quot;: &quot;#d35400&quot;, &quot;dashArray&quot;: null, &quot;dashOffset&quot;: null, &quot;fill&quot;: true, &quot;fillColor&quot;: &quot;#d35400&quot;, &quot;fillOpacity&quot;: 0.2, &quot;fillRule&quot;: &quot;evenodd&quot;, &quot;lineCap&quot;: &quot;round&quot;, &quot;lineJoin&quot;: &quot;round&quot;, &quot;opacity&quot;: 1.0, &quot;radius&quot;: 1000, &quot;stroke&quot;: true, &quot;weight&quot;: 3}\n            ).addTo(map_ed2fc7fa7f489b2bc4a2c1e7a67043de);\n        \n    \n        var popup_15fd3275f151e030a017c5c6684e218a = L.popup({&quot;maxWidth&quot;: &quot;100%&quot;});\n\n        \n            \n                var html_3f840a093457f0713100b5625acd6db8 = $(`&lt;div id=&quot;html_3f840a093457f0713100b5625acd6db8&quot; style=&quot;width: 100.0%; height: 100.0%;&quot;&gt;KSC LC-39A&lt;/div&gt;`)[0];\n                popup_15fd3275f151e030a017c5c6684e218a.setContent(html_3f840a093457f0713100b5625acd6db8);\n            \n        \n\n        circle_4f3ebbbd9a0605fc2aead73fd9757826.bindPopup(popup_15fd3275f151e030a017c5c6684e218a)\n        ;\n\n        \n    \n    \n            var marker_ac7841cff1bb547465452aecf98af4ad = L.marker(\n                [34.63283416, -120.6107455],\n                {}\n            ).addTo(map_ed2fc7fa7f489b2bc4a2c1e7a67043de);\n        \n    \n            var div_icon_670ad60e98b268250747fb3b81a9cf7c = L.divIcon({&quot;className&quot;: &quot;empty&quot;, &quot;html&quot;: &quot;\\u003cdiv style=\\&quot;font-size: 12; color:#d35400;\\&quot;\\u003e\\u003cb\\u003eVAFB SLC-4E\\u003c/b\\u003e\\u003c/div\\u003e&quot;, &quot;iconAnchor&quot;: [0, 0], &quot;iconSize&quot;: [20, 20]});\n            marker_ac7841cff1bb547465452aecf98af4ad.setIcon(div_icon_670ad60e98b268250747fb3b81a9cf7c);\n        \n    \n            var circle_76851ba03f6689701dc69e17f891dd9e = L.circle(\n                [34.63283416, -120.6107455],\n                {&quot;bubblingMouseEvents&quot;: true, &quot;color&quot;: &quot;#d35400&quot;, &quot;dashArray&quot;: null, &quot;dashOffset&quot;: null, &quot;fill&quot;: true, &quot;fillColor&quot;: &quot;#d35400&quot;, &quot;fillOpacity&quot;: 0.2, &quot;fillRule&quot;: &quot;evenodd&quot;, &quot;lineCap&quot;: &quot;round&quot;, &quot;lineJoin&quot;: &quot;round&quot;, &quot;opacity&quot;: 1.0, &quot;radius&quot;: 1000, &quot;stroke&quot;: true, &quot;weight&quot;: 3}\n            ).addTo(map_ed2fc7fa7f489b2bc4a2c1e7a67043de);\n        \n    \n        var popup_87e4991db67f766e477d73f6ed18c7f2 = L.popup({&quot;maxWidth&quot;: &quot;100%&quot;});\n\n        \n            \n                var html_573ce2cc7819fc96b7a540e550b571bb = $(`&lt;div id=&quot;html_573ce2cc7819fc96b7a540e550b571bb&quot; style=&quot;width: 100.0%; height: 100.0%;&quot;&gt;VAFB SLC-4E&lt;/div&gt;`)[0];\n                popup_87e4991db67f766e477d73f6ed18c7f2.setContent(html_573ce2cc7819fc96b7a540e550b571bb);\n            \n        \n\n        circle_76851ba03f6689701dc69e17f891dd9e.bindPopup(popup_87e4991db67f766e477d73f6ed18c7f2)\n        ;\n\n        \n    \n    \n            var mouse_position_0b5efcf2f0057a8e8d0f35026eac39cc = new L.Control.MousePosition(\n                {&quot;emptyString&quot;: &quot;NaN&quot;, &quot;lngFirst&quot;: false, &quot;numDigits&quot;: 20, &quot;position&quot;: &quot;topright&quot;, &quot;prefix&quot;: &quot;Lat:&quot;, &quot;separator&quot;: &quot; Long: &quot;}\n            );\n            mouse_position_0b5efcf2f0057a8e8d0f35026eac39cc.options[&quot;latFormatter&quot;] =\n                function(num) {return L.Util.formatNum(num, 5);};;\n            mouse_position_0b5efcf2f0057a8e8d0f35026eac39cc.options[&quot;lngFormatter&quot;] =\n                function(num) {return L.Util.formatNum(num, 5);};;\n            map_ed2fc7fa7f489b2bc4a2c1e7a67043de.addControl(mouse_position_0b5efcf2f0057a8e8d0f35026eac39cc);\n        \n&lt;/script&gt;\n&lt;/html&gt;\" style=\"position:absolute;width:100%;height:100%;left:0;top:0;border:none !important;\" allowfullscreen webkitallowfullscreen mozallowfullscreen></iframe></div></div>"
          },
          "metadata": {}
        }
      ]
    },
    {
      "cell_type": "markdown",
      "source": "Now zoom in to a launch site and explore its proximity to see if you can easily find any railway, highway, coastline, etc. Move your mouse to these points and mark down their coordinates (shown on the top-left) in order to the distance to the launch site.\n",
      "metadata": {}
    },
    {
      "cell_type": "markdown",
      "source": "Now zoom in to a launch site and explore its proximity to see if you can easily find any railway, highway, coastline, etc. Move your mouse to these points and mark down their coordinates (shown on the top-left) in order to the distance to the launch site.\n",
      "metadata": {}
    },
    {
      "cell_type": "code",
      "source": "from math import sin, cos, sqrt, atan2, radians\n\ndef calculate_distance(lat1, lon1, lat2, lon2):\n    # approximate radius of earth in km\n    R = 6373.0\n\n    lat1 = radians(lat1)\n    lon1 = radians(lon1)\n    lat2 = radians(lat2)\n    lon2 = radians(lon2)\n\n    dlon = lon2 - lon1\n    dlat = lat2 - lat1\n\n    a = sin(dlat / 2)**2 + cos(lat1) * cos(lat2) * sin(dlon / 2)**2\n    c = 2 * atan2(sqrt(a), sqrt(1 - a))\n\n    distance = R * c\n    return distance",
      "metadata": {
        "trusted": true
      },
      "execution_count": 17,
      "outputs": []
    },
    {
      "cell_type": "markdown",
      "source": "*TODO:* Mark down a point on the closest coastline using MousePosition and calculate the distance between the coastline point and the launch site.\n",
      "metadata": {}
    },
    {
      "cell_type": "code",
      "source": "# find coordinate of the closet coastline\n# e.g.,: Lat: 28.56367  Lon: -80.57163\n# distance_coastline = calculate_distance(launch_site_lat, launch_site_lon, coastline_lat, coastline_lon)",
      "metadata": {},
      "execution_count": null,
      "outputs": []
    },
    {
      "cell_type": "code",
      "source": "# Create and add a folium.Marker on your selected closest coastline point on the map\n# Display the distance between coastline point and launch site using the icon property \n# for example\n# distance_marker = folium.Marker(\n#    coordinate,\n#    icon=DivIcon(\n#        icon_size=(20,20),\n#        icon_anchor=(0,0),\n#        html='<div style=\"font-size: 12; color:#d35400;\"><b>%s</b></div>' % \"{:10.2f} KM\".format(distance),\n#        )\n#    )",
      "metadata": {},
      "execution_count": null,
      "outputs": []
    },
    {
      "cell_type": "markdown",
      "source": "*TODO:* Draw a `PolyLine` between a launch site to the selected coastline point\n",
      "metadata": {}
    },
    {
      "cell_type": "code",
      "source": "# Create a `folium.PolyLine` object using the coastline coordinates and launch site coordinate\n# lines=folium.PolyLine(locations=coordinates, weight=1)\nsite_map.add_child(lines)",
      "metadata": {},
      "execution_count": null,
      "outputs": []
    },
    {
      "cell_type": "markdown",
      "source": "Your updated map with distance line should look like the following screenshot:\n",
      "metadata": {}
    },
    {
      "cell_type": "markdown",
      "source": "<center>\n    <img src=\"https://cf-courses-data.s3.us.cloud-object-storage.appdomain.cloud/IBM-DS0321EN-SkillsNetwork/labs/module_3/images/launch_site_marker_distance.png\">\n</center>\n",
      "metadata": {}
    },
    {
      "cell_type": "markdown",
      "source": "*TODO:* Similarly, you can draw a line betwee a launch site to its closest city, railway, highway, etc. You need to use `MousePosition` to find the their coordinates on the map first\n",
      "metadata": {}
    },
    {
      "cell_type": "markdown",
      "source": "A railway map symbol may look like this:\n",
      "metadata": {}
    },
    {
      "cell_type": "markdown",
      "source": "<center>\n    <img src=\"https://cf-courses-data.s3.us.cloud-object-storage.appdomain.cloud/IBM-DS0321EN-SkillsNetwork/labs/module_3/images/railway.png\">\n</center>\n",
      "metadata": {}
    },
    {
      "cell_type": "markdown",
      "source": "A highway map symbol may look like this:\n",
      "metadata": {}
    },
    {
      "cell_type": "markdown",
      "source": "<center>\n    <img src=\"https://cf-courses-data.s3.us.cloud-object-storage.appdomain.cloud/IBM-DS0321EN-SkillsNetwork/labs/module_3/images/highway.png\">\n</center>\n",
      "metadata": {}
    },
    {
      "cell_type": "markdown",
      "source": "A city map symbol may look like this:\n",
      "metadata": {}
    },
    {
      "cell_type": "markdown",
      "source": "<center>\n    <img src=\"https://cf-courses-data.s3.us.cloud-object-storage.appdomain.cloud/IBM-DS0321EN-SkillsNetwork/labs/module_3/images/city.png\">\n</center>\n",
      "metadata": {}
    },
    {
      "cell_type": "code",
      "source": "# Create a marker with distance to a closest city, railway, highway, etc.\n# Draw a line between the marker to the launch site\n",
      "metadata": {},
      "execution_count": null,
      "outputs": []
    },
    {
      "cell_type": "code",
      "source": "",
      "metadata": {},
      "execution_count": null,
      "outputs": []
    },
    {
      "cell_type": "code",
      "source": "",
      "metadata": {},
      "execution_count": null,
      "outputs": []
    },
    {
      "cell_type": "markdown",
      "source": "After you plot distance lines to the proximities, you can answer the following questions easily:\n\n*   Are launch sites in close proximity to railways?\n*   Are launch sites in close proximity to highways?\n*   Are launch sites in close proximity to coastline?\n*   Do launch sites keep certain distance away from cities?\n\nAlso please try to explain your findings.\n",
      "metadata": {}
    },
    {
      "cell_type": "markdown",
      "source": "# Next Steps:\n\nNow you have discovered many interesting insights related to the launch sites' location using folium, in a very interactive way. Next, you will need to build a dashboard using Ploty Dash on detailed launch records.\n",
      "metadata": {}
    },
    {
      "cell_type": "markdown",
      "source": "## Authors\n",
      "metadata": {}
    },
    {
      "cell_type": "markdown",
      "source": "[Pratiksha Verma](https://www.linkedin.com/in/pratiksha-verma-6487561b1/?utm_medium=Exinfluencer&utm_source=Exinfluencer&utm_content=000026UJ&utm_term=10006555&utm_id=NA-SkillsNetwork-Channel-SkillsNetworkCoursesIBMDS0321ENSkillsNetwork865-2022-01-01)\n",
      "metadata": {}
    },
    {
      "cell_type": "markdown",
      "source": "## Change Log\n",
      "metadata": {}
    },
    {
      "cell_type": "markdown",
      "source": "| Date (YYYY-MM-DD) | Version | Changed By      | Change Description      |\n| ----------------- | ------- | -------------   | ----------------------- |\n| 2022-11-09        | 1.0     | Pratiksha Verma | Converted initial version to Jupyterlite|\n",
      "metadata": {}
    },
    {
      "cell_type": "markdown",
      "source": "### <h3 align=\"center\"> IBM Corporation 2022. All rights reserved. <h3/>\n",
      "metadata": {}
    }
  ]
}